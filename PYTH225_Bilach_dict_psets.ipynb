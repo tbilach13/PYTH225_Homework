{
  "nbformat": 4,
  "nbformat_minor": 0,
  "metadata": {
    "colab": {
      "name": "PYTH225_Bilach_dict_psets.ipynb",
      "provenance": [],
      "collapsed_sections": [],
      "include_colab_link": true
    },
    "kernelspec": {
      "name": "python3",
      "display_name": "Python 3"
    }
  },
  "cells": [
    {
      "cell_type": "markdown",
      "metadata": {
        "id": "view-in-github",
        "colab_type": "text"
      },
      "source": [
        "<a href=\"https://colab.research.google.com/github/tbilach13/PYTH225_Homework/blob/master/PYTH225_Bilach_dict_psets.ipynb\" target=\"_parent\"><img src=\"https://colab.research.google.com/assets/colab-badge.svg\" alt=\"Open In Colab\"/></a>"
      ]
    },
    {
      "cell_type": "markdown",
      "metadata": {
        "id": "hIHgBfgSSN8D",
        "colab_type": "text"
      },
      "source": [
        "#  DICTS\n",
        "\n",
        "\n",
        "\n"
      ]
    },
    {
      "cell_type": "markdown",
      "metadata": {
        "id": "_yv4DI9GSU01",
        "colab_type": "text"
      },
      "source": [
        "## BASICS\n"
      ]
    },
    {
      "cell_type": "markdown",
      "metadata": {
        "id": "YXndgQTcSWCF",
        "colab_type": "text"
      },
      "source": [
        "### P1.PY"
      ]
    },
    {
      "cell_type": "code",
      "metadata": {
        "id": "sycqY3FhSN8E",
        "colab_type": "code",
        "outputId": "d20f3304-9d3f-44a5-891f-732b0b5906f8",
        "colab": {
          "base_uri": "https://localhost:8080/",
          "height": 101
        }
      },
      "source": [
        "\"\"\"\n",
        "Intro to Dict Concepts\n",
        "\"\"\"\n",
        "\n",
        "# A) Declare an empty dict as d1.\n",
        "\n",
        "di = {}\n",
        "\n",
        "# B) Create a dict called d2 containing the first and last names below:\n",
        "# Anthony Paollelo, Ping Qiao, Enrique Alvarez, Arjun Dhir \n",
        "\n",
        "d2 = {\n",
        "    'Anthony': 'Paollelo',\n",
        "    'Ping': 'Qiao',\n",
        "    'Enrique': 'Alvarez',\n",
        "    'Arjun': 'Dhir'\n",
        "}\n",
        "\n",
        "# C) Add Allison Zhang person to d2.\n",
        "\n",
        "d2.update({'Allison': 'Zhang'})\n",
        "\n",
        "# D) How many people are now in d2? Print out all their *first* names in the vars below.\n",
        "\n",
        "num_people = len( list(d2.items()) )  # We can just count the items\n",
        "print(f'There are {num_people} people in the dictionary.')\n",
        "\n",
        "first_names = list(d2.keys())\n",
        "first_names_no_commas = ', '.join(first_names)\n",
        "print(f'First names: {first_names_no_commas}.')\n",
        "\n",
        "# E) Delete a random person from d2 and print his/her name in the var below.\n",
        "\n",
        "# I am using .popitem()\n",
        "# This removes an arbitrary key value pair from d2 and returns it as a tuple\n",
        "\n",
        "x = d2.popitem()\n",
        "print(x)\n",
        "print(d2)\n",
        "\n",
        "# F) Re-add the name you deleted to the end of d2.\n",
        "\n",
        "d2.update({'Allison': 'Zhang'})\n",
        "print(d2)"
      ],
      "execution_count": 0,
      "outputs": [
        {
          "output_type": "stream",
          "text": [
            "There are 5 people in the dictionary.\n",
            "First names: Anthony, Ping, Enrique, Arjun, Allison.\n",
            "('Allison', 'Zhang')\n",
            "{'Anthony': 'Paollelo', 'Ping': 'Qiao', 'Enrique': 'Alvarez', 'Arjun': 'Dhir'}\n",
            "{'Anthony': 'Paollelo', 'Ping': 'Qiao', 'Enrique': 'Alvarez', 'Arjun': 'Dhir', 'Allison': 'Zhang'}\n"
          ],
          "name": "stdout"
        }
      ]
    },
    {
      "cell_type": "markdown",
      "metadata": {
        "id": "vGjiwyuNSN8H",
        "colab_type": "text"
      },
      "source": [
        "\n",
        "\n",
        "### P2.PY\n",
        "\n",
        "\n"
      ]
    },
    {
      "cell_type": "code",
      "metadata": {
        "id": "0vq219wISN8J",
        "colab_type": "code",
        "outputId": "46f4830d-a84f-479d-cf51-c662dfdaef30",
        "colab": {
          "base_uri": "https://localhost:8080/",
          "height": 121
        }
      },
      "source": [
        "\"\"\"\n",
        "Predators & Prey\n",
        "\"\"\"\n",
        "\n",
        "# A) Create a dict called \"pred_prey\", containing:\n",
        "### 3 carnivorous marine animals\n",
        "### For each carnivore, 3 examples of its prey\n",
        "\n",
        "pred_prey = {\n",
        "    'lion': ['antelope', 'turle', 'human'],\n",
        "    'eagle': ['squirrel', 'raccoon', 'rabbit'],\n",
        "    'shark': ['dolphin', 'sea lion', 'human']\n",
        "}\n",
        "\n",
        "print(pred_prey)\n",
        "\n",
        "# B) Print out the 2nd predator and its prey in this format:\n",
        "#### predator2: prey1, prey2, & prey3\n",
        "import copy\n",
        "\n",
        "pred_prey_2 = copy.deepcopy(pred_prey)\n",
        "pred_prey_list = list(pred_prey_2.items())\n",
        "pred_prey_eagle = pred_prey_list[1][1]\n",
        "pred_prey_eagle.insert(2, 'and ')  # Insert the & after raccoon\n",
        "\n",
        "first_part = pred_prey_eagle[:3]\n",
        "print(first_part)\n",
        "second_part = pred_prey_eagle[3:]\n",
        "print(second_part)\n",
        "\n",
        "pred_prey_first = ', '.join(first_part)\n",
        "pred_prey_second = ''.join(second_part)\n",
        "total_prey = pred_prey_first + pred_prey_second\n",
        "\n",
        "print(f'The {pred_prey_list[1][0]} predator has the following prey: {total_prey}.')\n",
        "\n",
        "# C) Print a unique collection of all the prey in a variable called \"prey\".\n",
        "prey_list = list(pred_prey.values())\n",
        "flat_list = []\n",
        "\n",
        "for sublist in prey_list:\n",
        "  for item in sublist:\n",
        "    flat_list.append(item)\n",
        "\n",
        "prey = set(flat_list)\n",
        "print(prey)"
      ],
      "execution_count": 0,
      "outputs": [
        {
          "output_type": "stream",
          "text": [
            "{'lion': ['antelope', 'turle', 'buffaloe'], 'eagle': ['squirrel', 'raccoon', 'rabbit'], 'shark': ['dolphin', 'sea lion', 'human']}\n",
            "['squirrel', 'raccoon', 'and ']\n",
            "['rabbit']\n",
            "The eagle predator has the following prey: squirrel, raccoon, and rabbit.\n",
            "{'rabbit', 'human', 'sea lion', 'squirrel', 'dolphin', 'antelope', 'raccoon', 'buffaloe', 'turle'}\n"
          ],
          "name": "stdout"
        }
      ]
    },
    {
      "cell_type": "markdown",
      "metadata": {
        "id": "2n4lE5O2SN8N",
        "colab_type": "text"
      },
      "source": [
        "\n",
        "\n",
        "### P3.PY\n",
        "\n",
        "\n"
      ]
    },
    {
      "cell_type": "code",
      "metadata": {
        "id": "7mg1LKIdSN8O",
        "colab_type": "code",
        "colab": {}
      },
      "source": [
        "\"\"\"\n",
        "Merging Dicts\n",
        "\"\"\"\n",
        "\n",
        "# Merge these two dicts without creating a new one.\n",
        "\n",
        "d1 = {\n",
        "    'a': 100,\n",
        "    'b': 200\n",
        "    }\n",
        "\n",
        "d2 = {\n",
        "    'c': 300, \n",
        "    'd': 400, \n",
        "    'e': 500\n",
        "    }\n",
        "\n",
        "d1.update(d2)  # All the elements in dictionary 2 were added into dictionary 1\n",
        "print(f'The update dictionary is: {d1}')"
      ],
      "execution_count": 0,
      "outputs": []
    },
    {
      "cell_type": "markdown",
      "metadata": {
        "id": "pPpGZbyBSN8Q",
        "colab_type": "text"
      },
      "source": [
        "\n",
        "\n",
        "### P4.PY\n",
        "\n",
        "\n"
      ]
    },
    {
      "cell_type": "code",
      "metadata": {
        "id": "HLyWTctsSN8R",
        "colab_type": "code",
        "outputId": "3e602afe-d464-4628-9149-61ad6d7997ea",
        "colab": {
          "base_uri": "https://localhost:8080/",
          "height": 54
        }
      },
      "source": [
        "\"\"\"\n",
        "Lists to Dicts\n",
        "\"\"\"\n",
        "\n",
        "# Turn these two lists into a dict called grades.\n",
        "\n",
        "names = ['Taq', 'Zola', 'Valerie', 'Valerie']\n",
        "scores = [[98, 89, 92, 94], [86, 45, 98, 100], [100, 100, 100, 100], [76, 79, 80, 82]]\n",
        "\n",
        "grades = dict(zip(names, scores))\n",
        "print(f'The dictionary of persons and their grades is as follows {grades}.')"
      ],
      "execution_count": 0,
      "outputs": [
        {
          "output_type": "stream",
          "text": [
            "The dictionary of persons and their grades is as follows {'Taq': [98, 89, 92, 94], 'Zola': [86, 45, 98, 100], 'Valerie': [76, 79, 80, 82]}.\n"
          ],
          "name": "stdout"
        }
      ]
    },
    {
      "cell_type": "markdown",
      "metadata": {
        "id": "j2WZlr4aSN8T",
        "colab_type": "text"
      },
      "source": [
        "## DICT MANIPULATION\n",
        "\n"
      ]
    },
    {
      "cell_type": "markdown",
      "metadata": {
        "id": "CD6sOl1NSlUd",
        "colab_type": "text"
      },
      "source": [
        "### P1.PY"
      ]
    },
    {
      "cell_type": "code",
      "metadata": {
        "id": "kevedbhjSN8U",
        "colab_type": "code",
        "outputId": "fe3e69e6-5849-4a0c-d04e-7bac1666a24b",
        "colab": {
          "base_uri": "https://localhost:8080/",
          "height": 34
        }
      },
      "source": [
        "\"\"\"\n",
        "Basic Login\n",
        "\"\"\"\n",
        "\n",
        "# Imagine you work for a movie streaming service. \n",
        "# You're in charge of safeguarding user privacy by ensuring the login feature remains secure. \n",
        "# For the sake of this example only, below is the dict of user login info. \n",
        "# Normally, you wouldn't have access to see this unencrypted of course!\n",
        "\n",
        "users = {\n",
        "\t'person@email.com': 'PassWord',\n",
        "\t'someone@email.com': 'hiitsme',\n",
        "\t'me@email.com': 'myPassword',\n",
        "\t'anyone@email.com': 'IMawesome',\n",
        "\t'guy@email.com': 'pa$$wordz'\n",
        "\t# etc\n",
        "}\n",
        "\n",
        "# A user enters the below login info (email and password) for your app. \n",
        "# Search your database of user logins to see if this account exists \n",
        "# and if the password matches what you have on file. \n",
        "# If the login credentials are correct, print \"Successful login!\". \n",
        "# Otherwise, print \"The login info you entered does not match any of our records.\"\n",
        "\n",
        "current_user = {'me@email.com': 'myPassword'}\n",
        "\n",
        "for key, value in users.items():\n",
        "\tif key in current_user.keys() and value in current_user.values():\n",
        "\t\tprint(\"Successful login!\")\n",
        "\t\tbreak\n",
        "else:\n",
        "\t\tprint(\"The login information you provided does not match our records.\")"
      ],
      "execution_count": 0,
      "outputs": [
        {
          "output_type": "stream",
          "text": [
            "Successful login!\n"
          ],
          "name": "stdout"
        }
      ]
    },
    {
      "cell_type": "markdown",
      "metadata": {
        "id": "KbjvMBP_SN8W",
        "colab_type": "text"
      },
      "source": [
        "\n",
        "\n",
        "### P2.PY\n",
        "\n",
        "\n"
      ]
    },
    {
      "cell_type": "code",
      "metadata": {
        "id": "SjdXQ_MiSN8X",
        "colab_type": "code",
        "colab": {}
      },
      "source": [
        "\"\"\"\n",
        "Math with Girl Scout Cookies\n",
        "\"\"\"\n",
        "\n",
        "# Print out the number of boxes of girl scout cookies that each girl in the troop sold in the below format:\n",
        "\t# Wendy: _____\n",
        "\t# Connie: _____\n",
        "\t# Francesca: _____\n",
        "\n",
        "Wendy = {\n",
        "\t\t'tagalongs': 5,\n",
        "\t\t'thin mints': 12,\n",
        "\t\t'samoas': 8\n",
        "\t\t}\n",
        "Connie = {\n",
        "\t\t'tagalongs': 10,\n",
        "\t\t'thin mints': 4,\n",
        "\t\t'samoas': 12\n",
        "\t\t}\n",
        "Francesca = {\n",
        "\t\t'tagalongs': 18,\n",
        "\t\t'thin mints': 14,\n",
        "\t\t'samoas': 10\n",
        "\t\t}\n",
        "\n",
        "print(f'''\n",
        "Wendy: {sum(Wendy.values())}\n",
        "Connie: {sum(Connie.values())}\n",
        "Samoas: {sum(Francesca.values())}\n",
        "'''\n",
        ")\n",
        "\n",
        "# For each type of girl scout cookie, print out the total number of boxes sold in the below format:\n",
        "\t# tagalongs: _____\n",
        "\t# thin mints: _____\n",
        "\t# samoas: _____\n",
        "\n",
        "total_tagalongs = Wendy['tagalongs'] + Connie['tagalongs'] + Francesca['tagalongs']\n",
        "total_thinmints = Wendy['thin mints'] + Connie['thin mints'] + Francesca['thin mints']\n",
        "total_samoas = Wendy['samoas'] + Connie['samoas'] + Francesca['samoas']\n",
        "\n",
        "print(f'''\n",
        "tagalongs: {total_tagalongs}\n",
        "thin mints: {total_thinmints}\n",
        "samoas: {total_samoas}\n",
        "'''\n",
        ")\n",
        "\n",
        "# For each type of girl scout cookie, print out the average number of boxes sold in the below format:\n",
        "\t# tagalongs: _____\n",
        "\t# thin mints: _____\n",
        "\t# samoas: _____\n",
        "\n",
        "avg_tagalongs = total_tagalongs / len(Wendy.keys())\n",
        "avg_thinmints = total_thinmints / len(Connie.keys())\n",
        "avg_samoas = total_samoas / len(Francesca.keys())\n",
        "\n",
        "print(f'''\n",
        "tagalongs: {avg_tagalongs}\n",
        "thin mints: {avg_thinmints}\n",
        "samoas: {avg_samoas}\n",
        "'''\n",
        ")\n",
        "\n",
        "# Print out total the number of boxes of cookies the girls sold collectively as follows:\n",
        "\t# \"This year we sold ______ boxes!\"\n",
        "\n",
        "boxes_sold = sum(Wendy.values()) + sum(Connie.values()) + sum(Francesca.values())\n",
        "\n",
        "print(f'This year we sold {boxes_sold} boxes!')"
      ],
      "execution_count": 0,
      "outputs": []
    },
    {
      "cell_type": "markdown",
      "metadata": {
        "id": "U32QUUqHSN8b",
        "colab_type": "text"
      },
      "source": [
        "\n",
        "\n",
        "### P3.PY\n",
        "\n",
        "\n"
      ]
    },
    {
      "cell_type": "code",
      "metadata": {
        "id": "UfPFoSqGSN8d",
        "colab_type": "code",
        "outputId": "c0fcef52-36b9-4ece-90d3-124de1493235",
        "colab": {
          "base_uri": "https://localhost:8080/",
          "height": 50
        }
      },
      "source": [
        "\"\"\"\n",
        "Inverting Keys & Values\n",
        "\"\"\"\n",
        "\n",
        "# Invert dict1 - make the current keys into values and the current values into keys.\n",
        "\n",
        "dict1 = {\n",
        "    \"k1\" : \"v1\",\n",
        "    \"k2\" : \"v2\",\n",
        "    \"k3\" : \"v1\"\n",
        "    }\n",
        "\n",
        "new_dict = {}\n",
        "\n",
        "for key, value in dict1.items():\n",
        "  new_pair = {value: key}\n",
        "  new_dict.update(new_pair)\n",
        "print(new_dict)\n",
        "\n",
        "# Or\n",
        "version_2 = {value: key for key, value in dict1.items()}\n",
        "print(version_2)"
      ],
      "execution_count": 0,
      "outputs": [
        {
          "output_type": "stream",
          "text": [
            "{'v1': 'k3', 'v2': 'k2'}\n",
            "{'v1': 'k3', 'v2': 'k2'}\n"
          ],
          "name": "stdout"
        }
      ]
    },
    {
      "cell_type": "markdown",
      "metadata": {
        "id": "1Z5ZE-l3T-Zs",
        "colab_type": "text"
      },
      "source": [
        "## DICT LOOPS\n",
        "\n",
        "\n"
      ]
    },
    {
      "cell_type": "markdown",
      "metadata": {
        "id": "qOHH_tdgUIzl",
        "colab_type": "text"
      },
      "source": [
        "### P1.PY"
      ]
    },
    {
      "cell_type": "code",
      "metadata": {
        "id": "VAvRbaZiT-Zt",
        "colab_type": "code",
        "colab": {}
      },
      "source": [
        "\"\"\"\n",
        "Contacts\n",
        "\"\"\"\n",
        "\n",
        "# You went to a conference and got people to sign up for text updates from your startup. \n",
        "# Go through this dict to make the phone numbers readable to a computer. \n",
        "\n",
        "# Hint: It can't include any non-numeric\n",
        "# characters.\n",
        "\n",
        "contacts = {\n",
        "\t'Jamie': '1.192.168.0143',\n",
        "\t'Kartik': '1.837.209.1121',\n",
        "\t'Grant': '1.826.386.1758',\n",
        "\t'Brandon': '1.935.297.9447',\n",
        "\t'Monique': '1.702.716.5353',\n",
        "\t'Sohom': '1.576.619.6100',\n",
        "}\n",
        "\n",
        "for key, value in contacts.items():\n",
        "\tcontacts[key] = value.replace('.', ' ')\n",
        "print(contacts)"
      ],
      "execution_count": 0,
      "outputs": []
    },
    {
      "cell_type": "markdown",
      "metadata": {
        "id": "I9eekKo7T-Zv",
        "colab_type": "text"
      },
      "source": [
        "\n",
        "\n",
        "### P2.PY\n",
        "\n",
        "\n"
      ]
    },
    {
      "cell_type": "code",
      "metadata": {
        "id": "rjRPhf-oT-Zw",
        "colab_type": "code",
        "outputId": "f1c57387-2bbd-455d-dc07-b23b4bdc4de3",
        "colab": {
          "base_uri": "https://localhost:8080/",
          "height": 370
        }
      },
      "source": [
        "\"\"\"\n",
        "Grades\n",
        "\"\"\"\n",
        "# Here's a dict containing students' grades from the semester's assignments.\n",
        "\n",
        "students = {\n",
        "  'Ashton': [86, 45, 98, 100],\n",
        "  'Sierra': [100, 100, 100, 100],\n",
        "  'Zach': [38, 49, 90, 87],\n",
        "  'Manuel': [98, 92, 86, 100],\n",
        "  'Felicia': [94, 87, 89, 95],\n",
        "  'Ankur': [75, 77, 77, 85],\n",
        "  'Ananya': [98, 94, 87, 92],\n",
        "  'Nick': [79, 84, 89, 90],\n",
        "  'Olivia': [83, 91, 69, 85],\n",
        "  'Molly': [83, 74, 72, 90]\n",
        "}\n",
        "\n",
        "# p 1.1) Create a dict called num_grades to store each student's average numerical grade for the semester.\n",
        "\n",
        "num_grades = {}\n",
        "\n",
        "for key, value in students.items():\n",
        "  avg_pairing = { key: (sum(value) / 4) }\n",
        "  num_grades.update(avg_pairing)\n",
        "  print(num_grades[key])\n",
        "\n",
        "# p 1.2) Create a dict called letter_grades to store each student's final letter grade for the semester. \n",
        "# Use A, B, C, D, and F as grades per the standard grading scale.\n",
        "\n",
        "letter_grades = {}\n",
        "\n",
        "for key, value in num_grades.items():\n",
        "  if num_grades[key] < 0 or num_grades[key] > 100:\n",
        "    letter_grades.update({key: 'Error'})\n",
        "\n",
        "  elif num_grades[key] >= 90 and num_grades[key] <= 100:\n",
        "    letter_grades.update({key: 'A'})\n",
        "  elif num_grades[key] >= 80 and num_grades[key] < 90:\n",
        "    letter_grades.update({key: 'B'})\n",
        "  elif num_grades[key] >= 70 and num_grades[key] < 80:\n",
        "    letter_grades.update({key: 'C'})\n",
        "  elif num_grades[key] >= 65 and num_grades[key] < 70:\n",
        "    letter_grades.update({key: 'D'})\n",
        "  else:\n",
        "    letter_grades.update({key: 'F'})\n",
        "  print(letter_grades[key])\n",
        "\n",
        "# p 1.3) Create a list of honor roll students (i.e. students who got A's).\n",
        "\n",
        "honor_roll = []\n",
        "\n",
        "for key, value in letter_grades.items():\n",
        "  if letter_grades[key] == \"A\":\n",
        "    honor_roll.append(key)\n",
        "\n",
        "joined = ', '.join(honor_roll)\n",
        "print(f'The names of students on the honor include: {joined}.')"
      ],
      "execution_count": 0,
      "outputs": [
        {
          "output_type": "stream",
          "text": [
            "82.25\n",
            "100.0\n",
            "66.0\n",
            "94.0\n",
            "91.25\n",
            "78.5\n",
            "92.75\n",
            "85.5\n",
            "82.0\n",
            "79.75\n",
            "B\n",
            "A\n",
            "D\n",
            "A\n",
            "A\n",
            "C\n",
            "A\n",
            "B\n",
            "B\n",
            "C\n",
            "The names of students on the honor include: Sierra, Manuel, Felicia, Ananya.\n"
          ],
          "name": "stdout"
        }
      ]
    },
    {
      "cell_type": "markdown",
      "metadata": {
        "id": "fjXYhpR_T-Zz",
        "colab_type": "text"
      },
      "source": [
        "\n",
        "\n",
        "### P3.PY\n",
        "\n",
        "\n"
      ]
    },
    {
      "cell_type": "code",
      "metadata": {
        "id": "dnNTo_y5T-Z0",
        "colab_type": "code",
        "outputId": "5fca619f-90de-4326-a879-0c5cc361c5de",
        "colab": {
          "base_uri": "https://localhost:8080/",
          "height": 34
        }
      },
      "source": [
        "\"\"\"\n",
        "Price Inventory\n",
        "\"\"\"\n",
        "\n",
        "# Imagine you're the owner of an Italian restaurant. \n",
        "# You're evaluating your pricing to make sure it's up to date \n",
        "# with the latest costs of making each menu item \n",
        "# (see the menu prices and costs dicts below). \n",
        "# Evaluate whether each item's price returns a profit margin of at least $1.00. \n",
        "# If it doesn't, update the menu_prices dict with a new price that gives the item a $1.00 profit margin. \n",
        "# Then print out the items which you've repriced in a new dict called price_increases.\n",
        "\n",
        "menu_prices = {\n",
        "\t'fettuccine bolognese': 14.99,\n",
        "\t'gnocchi gorgonzola': 10.99,\n",
        "\t'chicken parmigiano': 13.99,\n",
        "\t'butternut squash risotto': 9.99,\n",
        "\t'spaghetti carbonara': 12.99,\n",
        "\t'pizza margherita': 12.99,\n",
        "\t'chicken marsala': 13.99\n",
        "}\n",
        "\n",
        "menu_costs = {\n",
        "\t'fettuccine bolognese': 12.50,\n",
        "\t'gnocchi gorgonzola': 11.25,\n",
        "\t'chicken parmigiano': 11.75,\n",
        "\t'butternut squash risotto': 6.33,\n",
        "\t'spaghetti carbonara': 12.90,\n",
        "\t'pizza margherita': 14.00,\n",
        "\t'chicken marsala': 11.75\n",
        "}\n",
        "\n",
        "price_increases = {}\n",
        "\n",
        "for key, value in menu_prices.items():\n",
        "\tif ( menu_prices[key] - menu_costs[key] ) >= 1:  # Already profiting\n",
        "\t\tcontinue\n",
        "\n",
        "\tif float(\"-inf\") < ( menu_prices[key] - menu_costs[key] ) < 0:\n",
        "\t\tdiff = menu_prices[key] - menu_costs[key]\n",
        "\n",
        "\t\tnew_price = menu_prices[key] + abs(diff) + 1\n",
        "\t\tprice_increases.update({key: new_price})\n",
        "\t\n",
        "\telif 0 < ( menu_prices[key] - menu_costs[key] ) < 1:\n",
        "\t\tdiff = menu_prices[key] - menu_costs[key]\n",
        "\t\t\n",
        "\t\tnew_price = menu_prices[key] + diff\n",
        "\t\tprice_increases.update({key: new_price})\n",
        "\t\n",
        "\telif (menu_prices[key] - menu_costs[key] ) == 0:\n",
        "\t\tnew_price = menu_prices[key] + 1\n",
        "\t\tprice_increases.update({key: new_price})\n",
        "\n",
        "print(price_increases) "
      ],
      "execution_count": 0,
      "outputs": [
        {
          "output_type": "stream",
          "text": [
            "{'gnocchi gorgonzola': 12.25, 'spaghetti carbonara': 13.08, 'pizza margherita': 15.0}\n"
          ],
          "name": "stdout"
        }
      ]
    },
    {
      "cell_type": "markdown",
      "metadata": {
        "id": "OY4HIe9zSN8g",
        "colab_type": "text"
      },
      "source": [
        "## COUNTERS CHALLENGE\n",
        "\n",
        "\n"
      ]
    },
    {
      "cell_type": "markdown",
      "metadata": {
        "id": "n6-wbcqISxIr",
        "colab_type": "text"
      },
      "source": [
        "### P1.PY"
      ]
    },
    {
      "cell_type": "code",
      "metadata": {
        "id": "LKLiEr_3SN8g",
        "colab_type": "code",
        "colab": {}
      },
      "source": [
        "\"\"\"\n",
        "Word Frequency\n",
        "\"\"\"\n",
        "\n",
        "# Print out the number of words in this movie quote. Find and print out the most common word in the quote and how many times it was used.\n",
        "### Hint: You do not need a loop for this. Look up the Counter docs in python3.\n",
        "\n",
        "from collections import Counter\n",
        "\n",
        "princess_bride = [\n",
        "'Hello', 'my', 'name', 'is', 'Inigo', 'Montoya',\n",
        "'You', 'killed', 'my', 'father',\n",
        "'Prepare', 'to', 'die'\n",
        "]\n",
        "\n",
        "### fave_word = \n",
        "\n",
        "# p.s. You might use this to help analyze the most common topic in comments or reviews from your users to help understand the best places to improve you product."
      ],
      "execution_count": 0,
      "outputs": []
    },
    {
      "cell_type": "markdown",
      "metadata": {
        "id": "7L4oLSDpSN8n",
        "colab_type": "text"
      },
      "source": [
        "\n",
        "\n",
        "### P2.PY\n",
        "\n",
        "\n"
      ]
    },
    {
      "cell_type": "code",
      "metadata": {
        "id": "MYo0kTxuSN8o",
        "colab_type": "code",
        "colab": {
          "base_uri": "https://localhost:8080/",
          "height": 50
        },
        "outputId": "ed24a402-f719-4a91-e7c7-e7b084f313be"
      },
      "source": [
        "\"\"\"\n",
        "Summing Dict Values\n",
        "\"\"\"\n",
        "\n",
        "# Two Kindergarten teachers poll their classes for what fruit they want to eat for snacktime tomorrow. \n",
        "# Only one of them is going shopping, so she needs to know how many of each fruit she needs to buy in total. \n",
        "# Tally these up and assign them to the \"shopping_list\" dict.\n",
        "\n",
        "poll1 = {'apples': 8, 'bananas': 12}\n",
        "poll2 = {'apples': 6, 'bananas': 6, 'clementines': 8}\n",
        "\n",
        "shopping_list = {}\n",
        "\n",
        "all_items = []\n",
        "all_items.extend(poll1.items())\n",
        "all_items.extend(poll2.items())\n",
        "print(all_items)\n",
        "\n",
        "for fruit, number in all_items:\n",
        "  if fruit not in shopping_list:\n",
        "    shopping_list[fruit] = 0\n",
        "\n",
        "  shopping_list[fruit] += number\n",
        "\n",
        "print(shopping_list)"
      ],
      "execution_count": 15,
      "outputs": [
        {
          "output_type": "stream",
          "text": [
            "[('apples', 8), ('bananas', 12), ('apples', 6), ('bananas', 6), ('clementines', 8)]\n",
            "{'apples': 14, 'bananas': 18, 'clementines': 8}\n"
          ],
          "name": "stdout"
        }
      ]
    },
    {
      "cell_type": "code",
      "metadata": {
        "id": "J0wPxq2F4gwB",
        "colab_type": "code",
        "colab": {
          "base_uri": "https://localhost:8080/",
          "height": 34
        },
        "outputId": "cae7f03e-c36e-4383-82d4-579d37b782eb"
      },
      "source": [
        "print(all_items)"
      ],
      "execution_count": 8,
      "outputs": [
        {
          "output_type": "stream",
          "text": [
            "[('apples', 8), ('bananas', 12), ('apples', 6), ('bananas', 6), ('clementines', 8)]\n"
          ],
          "name": "stdout"
        }
      ]
    }
  ]
}