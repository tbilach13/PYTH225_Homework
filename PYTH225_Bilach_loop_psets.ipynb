{
  "nbformat": 4,
  "nbformat_minor": 0,
  "metadata": {
    "colab": {
      "name": "PYTH225_Bilach_loop_psets.ipynb",
      "provenance": [],
      "collapsed_sections": [],
      "machine_shape": "hm",
      "include_colab_link": true
    },
    "kernelspec": {
      "name": "python3",
      "display_name": "Python 3"
    }
  },
  "cells": [
    {
      "cell_type": "markdown",
      "metadata": {
        "id": "view-in-github",
        "colab_type": "text"
      },
      "source": [
        "<a href=\"https://colab.research.google.com/github/tbilach13/PYTH225_Homework/blob/master/PYTH225_Bilach_loop_psets.ipynb\" target=\"_parent\"><img src=\"https://colab.research.google.com/assets/colab-badge.svg\" alt=\"Open In Colab\"/></a>"
      ]
    },
    {
      "cell_type": "markdown",
      "metadata": {
        "id": "rvLI0ikiT-ZV",
        "colab_type": "text"
      },
      "source": [
        "#  LOOPS"
      ]
    },
    {
      "cell_type": "markdown",
      "metadata": {
        "id": "uVRP-haTUEUp",
        "colab_type": "text"
      },
      "source": [
        "## BASICS"
      ]
    },
    {
      "cell_type": "markdown",
      "metadata": {
        "id": "qujIvC8iUFsS",
        "colab_type": "text"
      },
      "source": [
        "### P1.PY"
      ]
    },
    {
      "cell_type": "code",
      "metadata": {
        "id": "RiZnK5MMT-ZW",
        "colab_type": "code",
        "outputId": "fa6d452e-0d21-4016-fc1e-26aafa311cc5",
        "colab": {
          "base_uri": "https://localhost:8080/",
          "height": 118
        }
      },
      "source": [
        "\"\"\"\n",
        "Odds & Evens\n",
        "\"\"\"\n",
        "\n",
        "'''\n",
        "Use a loop to make a list of all odd numbers between 1 and 10 \n",
        "and another list with all the evens. When done, print the lists.\n",
        "'''\n",
        "# I approached this three ways\n",
        "\n",
        "odds = []\n",
        "evens = []\n",
        "\n",
        "for nums in range(1, 11):\n",
        "  if nums % 2 != 0:  # The remainder is not zero so it must be odd\n",
        "    odds.append(nums)\n",
        "  else:\n",
        "    evens.append(nums)\n",
        "print(odds, '\\n', evens)\n",
        "\n",
        "\n",
        "# Or with a while loop\n",
        "\n",
        "\n",
        "odds = []\n",
        "evens = []\n",
        "\n",
        "i = 1\n",
        "\n",
        "while i <= 10:\n",
        "  if i % 2 == 0:  # The remainder is 0 so it must be even\n",
        "    evens.append(i)\n",
        "  else:\n",
        "    odds.append(i)\n",
        "  i = i + 1\n",
        "print(odds, '\\n', evens)\n",
        "\n",
        "\n",
        "# Or, using continue\n",
        "\n",
        "\n",
        "odds = []\n",
        "evens = []\n",
        "\n",
        "for num in range(1,11):\n",
        "  if num % 2 == 0:  # The number has a remainder of 0, so it evaluates to True!\n",
        "    evens.append(num)\n",
        "    continue\n",
        "\n",
        "  odds.append(num)\n",
        "print(odds, '\\n', evens)"
      ],
      "execution_count": 0,
      "outputs": [
        {
          "output_type": "stream",
          "text": [
            "[1, 3, 5, 7, 9] \n",
            " [2, 4, 6, 8, 10]\n",
            "[1, 3, 5, 7, 9] \n",
            " [2, 4, 6, 8, 10]\n",
            "[1, 3, 5, 7, 9] \n",
            " [2, 4, 6, 8, 10]\n"
          ],
          "name": "stdout"
        }
      ]
    },
    {
      "cell_type": "markdown",
      "metadata": {
        "id": "NZoDldAJT-ZZ",
        "colab_type": "text"
      },
      "source": [
        "\n",
        "\n",
        "### P2.PY\n",
        "\n",
        "\n"
      ]
    },
    {
      "cell_type": "code",
      "metadata": {
        "id": "6BxOPOuET-Za",
        "colab_type": "code",
        "colab": {}
      },
      "source": [
        "\"\"\"\n",
        "Lists with Duplicates\n",
        "\"\"\"\n",
        "\n",
        "# First, print list a below as it is now.\n",
        "\n",
        "a = [2, 4, 10, 20, 5, 2, 20, 4]\n",
        "b = [13, 2, 25, 20, 4, 8]\n",
        "\n",
        "# Using a loop, remove the duplicate items from list a and print out the updated list.\n",
        "\n",
        "l = []\n",
        "\n",
        "for i in range(len(a)):\n",
        "    if a[i] not in l:\n",
        "        l.append(a[i])\n",
        "print(l)\n",
        "\n",
        "\n",
        "# Or\n",
        "\n",
        "\n",
        "new_list = []\n",
        "for idx, number in enumerate(a):\n",
        "    if number not in a[:idx]:\n",
        "      new_list.append(number)\n",
        "print(new_list)\n",
        "\n",
        "\n",
        "# Below I tried a while loop\n",
        "\n",
        "\n",
        "i = 0\n",
        "while i < len(a):\n",
        "  j = i + 1\n",
        "  while j < len(a):\n",
        "    if a[i] == a[j]:\n",
        "      del a[j]\n",
        "    else:\n",
        "      j = j + 1\n",
        "  i = i + 1\n",
        "print(a)\n",
        "\n",
        "\n",
        "# Using a loop, merge list b into list a without adding any duplicates.\n",
        "\n",
        "a = [2, 4, 10, 20, 5, 2, 20, 4]\n",
        "b = [13, 2, 25, 20, 4, 8]\n",
        "\n",
        "print(f'Here is a: {a}')\n",
        "print(f'Here is b: {b}')\n",
        "\n",
        "l = []\n",
        "i = 0\n",
        "\n",
        "while i < len(b):\n",
        "  a.append(b[i])\n",
        "  i = i + 1\n",
        "  if i < len(b):\n",
        "    continue\n",
        "  for idx, num in enumerate(a):\n",
        "    if num not in a[:idx]:\n",
        "      l.append(num)\n",
        "  break\n",
        "print(\"----------------------\")\n",
        "print(f'Here is a and b combined with no duplicates: {sorted(l)}')\n",
        "\n",
        "# Instead of using two separate loops I combined them.\n",
        "# Seems inefficient but it works!"
      ],
      "execution_count": 0,
      "outputs": []
    },
    {
      "cell_type": "markdown",
      "metadata": {
        "id": "JiG0W3n3T-Ze",
        "colab_type": "text"
      },
      "source": [
        "\n",
        "\n",
        "### P3.PY\n",
        "\n",
        "\n"
      ]
    },
    {
      "cell_type": "code",
      "metadata": {
        "id": "PZY5tAw4T-Zf",
        "colab_type": "code",
        "colab": {}
      },
      "source": [
        "\"\"\"\n",
        "Temperature Conversions\n",
        "\"\"\"\n",
        "\n",
        "# You're studying climate change, and over the last 3 years, \n",
        "# you've recorded the temperature at noon every day in degrees Fahrenheit (F). \n",
        "# The var sampleF holds a portion of those recordings. \n",
        "\n",
        "sampleF = [71.6, 82.4, 91.4, 107.6, 125.6]\n",
        "\n",
        "# Convert each item in this list into degrees Celsius \n",
        "# and add the results to a dict called sample_temps \n",
        "# so that the conversion of each day's temperature is easily accessible. \n",
        "# For reference, the conversion equation between F and C is:\n",
        "# Celsius = (Fahrenheit - 32) * 5.0/9.0\n",
        "\n",
        "celsius = []\n",
        "sample_temps = {}\n",
        "\n",
        "for idx, temps in enumerate(sampleF):\n",
        "  conversion = round( (temps - 32) * 5.0 / 9.0 )\n",
        "  celsius.append(conversion)  # List of celsius temperatures\n",
        "  sample_temps = dict(zip(sampleF, celsius))  # The key is the Fahrenheit temps\n",
        "print(sample_temps)\n"
      ],
      "execution_count": 0,
      "outputs": []
    },
    {
      "cell_type": "markdown",
      "metadata": {
        "id": "337FvlPKUNqp",
        "colab_type": "text"
      },
      "source": [
        "### P4.PY"
      ]
    },
    {
      "cell_type": "code",
      "metadata": {
        "id": "00D_V8BnT-Z2",
        "colab_type": "code",
        "outputId": "58323067-c1d2-45c0-9034-8b28ee07e818",
        "colab": {
          "base_uri": "https://localhost:8080/",
          "height": 84
        }
      },
      "source": [
        "\"\"\"\n",
        "Control Flow - I\n",
        "\n",
        "Print the numbers in some range until you find a multiple of 7. \n",
        "At that point, print \"___ is the first multiple of 7 in this \n",
        "range.\" If the range does NOT include any multiples of 7, after \n",
        "you've printed the last number in the range, print \"There are \n",
        "no multiples of 7 in this range.\n",
        "\"\"\"\n",
        "\n",
        "for i in range(8, 12):\n",
        "  if i % 7 == 0:\n",
        "    print(f'The number {i} is the first multiple of seven in this range!')\n",
        "    break  \n",
        "    # If ^ False, then we go to the else statement\n",
        "    # If ^ True, we print first then kill the loop!\n",
        "  else:\n",
        "    print(f'The number {i} is not the first multiple of seven in this range!')"
      ],
      "execution_count": 0,
      "outputs": [
        {
          "output_type": "stream",
          "text": [
            "The number 8 is not the first multiple of seven in this range!\n",
            "The number 9 is not the first multiple of seven in this range!\n",
            "The number 10 is not the first multiple of seven in this range!\n",
            "The number 11 is not the first multiple of seven in this range!\n"
          ],
          "name": "stdout"
        }
      ]
    },
    {
      "cell_type": "markdown",
      "metadata": {
        "id": "aeUUzlj2T-Z5",
        "colab_type": "text"
      },
      "source": [
        "\n",
        "\n",
        "### P5.PY\n",
        "\n",
        "\n"
      ]
    },
    {
      "cell_type": "code",
      "metadata": {
        "id": "BXM9shfoT-Z5",
        "colab_type": "code",
        "colab": {}
      },
      "source": [
        "\"\"\"\n",
        "Control Flow II\n",
        "\n",
        "Write a Python program that prints all the numbers from \n",
        "0 to 6 except 3 and 6. Note: Use a 'continue' statement. \n",
        "\"\"\"\n",
        "\n",
        "for i in range(0, 7):\n",
        "  if i == 3 or i == 6: \n",
        "    continue\n",
        "  else:\n",
        "    print(i)"
      ],
      "execution_count": 0,
      "outputs": []
    },
    {
      "cell_type": "markdown",
      "metadata": {
        "id": "DGA_yKgt7KuB",
        "colab_type": "text"
      },
      "source": [
        "## FACTORS"
      ]
    },
    {
      "cell_type": "markdown",
      "metadata": {
        "id": "1WCBfmzxT-Zi",
        "colab_type": "text"
      },
      "source": [
        "\n",
        "\n",
        "### P1.PY\n",
        "\n",
        "\n"
      ]
    },
    {
      "cell_type": "code",
      "metadata": {
        "id": "D3n41TY3T-Zi",
        "colab_type": "code",
        "outputId": "db4dbbd6-6920-43ec-f86b-8db25223cbff",
        "colab": {
          "base_uri": "https://localhost:8080/",
          "height": 50
        }
      },
      "source": [
        "\"\"\"\n",
        "Factorial\n",
        "\"\"\"\n",
        "\n",
        "# Find the factorial of a number input by a user. \n",
        "# Then print out the factors within the factorial \n",
        "# and then print out the actual numeric answer. \n",
        "# Hint: The formula for a factorial is n! = (n-1)*n.\n",
        "\n",
        "# Example output:\n",
        "\"\"\"\n",
        "8! = 8*7*6*5*4*3*2*1\n",
        "8! = 40320\n",
        "\"\"\"\n",
        "\n",
        "user_input = int(input('Enter a number to find its factorial: '))\n",
        "\n",
        "fac = 1\n",
        "if (user_input == 0) | (user_input == 1):\n",
        "   print(\"The factorial of 0 and 1 is always 1\")\n",
        "\n",
        "else:\n",
        "   factors = []\n",
        "   for i in range(1, user_input + 1):  # We need to add 1 (it is not inclusive)\n",
        "     fac = fac * i\n",
        "     factors.append(i)\n",
        "\n",
        "descending = sorted(factors, reverse = True)\n",
        "descending_no_comma = '*'.join(map(str, descending))\n",
        "print(f\"The factorial of {user_input} is {fac} and the elements are {user_input}! = {descending_no_comma}.\")\n",
        "\n",
        "# 1  = 1*1\n",
        "# 2  = 1*2\n",
        "# 6  = 2*3\n",
        "# 24 = 6*4"
      ],
      "execution_count": 2,
      "outputs": [
        {
          "output_type": "stream",
          "text": [
            "Enter a number to find its factorial: 3\n",
            "The factorial of 3 is 6 and the elements are 3! = 3*2*1.\n"
          ],
          "name": "stdout"
        }
      ]
    },
    {
      "cell_type": "code",
      "metadata": {
        "id": "pwwZk_SGAqeV",
        "colab_type": "code",
        "colab": {
          "base_uri": "https://localhost:8080/",
          "height": 118
        },
        "outputId": "c7bd50ea-cfe8-4980-f36a-f58e40c78d14"
      },
      "source": [
        "# Interestingly, using -1 always you to reverse the order of the counter.\n",
        "\n",
        "num = 5\n",
        "p = 1\n",
        "\n",
        "for i in range(5, 0, -1):\n",
        "  print(i)\n",
        "  p = p * i\n",
        "print(p)"
      ],
      "execution_count": 3,
      "outputs": [
        {
          "output_type": "stream",
          "text": [
            "5\n",
            "4\n",
            "3\n",
            "2\n",
            "1\n",
            "120\n"
          ],
          "name": "stdout"
        }
      ]
    },
    {
      "cell_type": "markdown",
      "metadata": {
        "id": "34_iw8-4T-Zl",
        "colab_type": "text"
      },
      "source": [
        "\n",
        "\n",
        "### P2.PY\n",
        "\n",
        "\n"
      ]
    },
    {
      "cell_type": "code",
      "metadata": {
        "id": "EnPbAafST-Zm",
        "colab_type": "code",
        "outputId": "d7ca6d21-9339-4e4e-ba4a-9ac5e75115ac",
        "colab": {
          "base_uri": "https://localhost:8080/",
          "height": 50
        }
      },
      "source": [
        "\"\"\"\n",
        "Factors\n",
        "\"\"\"\n",
        "\n",
        "# Find all factors of a number that a user inputs and print out 'The factors of <the_user_input_number> are: '.\n",
        "\n",
        "user_input = int(input('Enter a number to find its factors: '))\n",
        "factors = []\n",
        "\n",
        "for i in range(1, user_input + 1):\n",
        "  if user_input % i == 0:\n",
        "    factors.append(i)\n",
        "    \n",
        "factors_no_comma = ', '.join(map(str, factors))\n",
        "print(f'The factors of {user_input} are: {factors_no_comma}.')"
      ],
      "execution_count": 0,
      "outputs": [
        {
          "output_type": "stream",
          "text": [
            "Enter a number to find its factors: 2\n",
            "The factors of 2 are: 1, 2.\n"
          ],
          "name": "stdout"
        }
      ]
    },
    {
      "cell_type": "markdown",
      "metadata": {
        "id": "XQbSY6kYT-Zo",
        "colab_type": "text"
      },
      "source": [
        "\n",
        "\n",
        "### P3.PY\n",
        "\n",
        "\n"
      ]
    },
    {
      "cell_type": "code",
      "metadata": {
        "id": "YFYeCVqWT-Zp",
        "colab_type": "code",
        "outputId": "d982b274-779d-4d92-a188-ade1d4700908",
        "colab": {
          "base_uri": "https://localhost:8080/",
          "height": 101
        }
      },
      "source": [
        "\"\"\"\n",
        "GCD\n",
        "\"\"\"\n",
        "\n",
        "# Find the greatest common denominator (GCD) of two number inputs by a user. \n",
        "# Then print out 'The GCD of <first number> and <second number> is <your result>.'\n",
        "\n",
        "print('Enter two numbers to find their greatest common denominator.')\n",
        "\n",
        "user_input_1 = int(input('First number: '))\n",
        "user_input_2 = int(input('Second number: '))\n",
        "\n",
        "fac_user_1 = []\n",
        "fac_user_2 = []\n",
        "\n",
        "common_factors = []\n",
        "not_common_factors = []\n",
        "\n",
        "if (user_input_1 == 0 or user_input_2 == 0) or (user_input_1 == 0 and user_input_2 == 0):\n",
        "  print(\"Either one or both users inputted 0; we cannot calculate a GCF.\")\n",
        "else:\n",
        "    for i in range(1, user_input_1 + 1):\n",
        "      if user_input_1 % i == 0:\n",
        "        fac_user_1.append(i)\n",
        "    for i in range(1, user_input_2 + 1):\n",
        "      if user_input_2 % i == 0:\n",
        "        fac_user_2.append(i)\n",
        "    all_factors = set(fac_user_1 + fac_user_2)  # Removing duplicates\n",
        "    for factors in all_factors:\n",
        "      if user_input_1 % factors == 0 and user_input_2 % factors == 0:\n",
        "        common_factors.append(factors)\n",
        "      else:\n",
        "        not_common_factors.append(factors)\n",
        "\n",
        "print(f'The GCD of {user_input_1} and {user_input_2} is {max(common_factors)}')\n",
        "# This will throw an error if either, or both, users choose 0."
      ],
      "execution_count": 0,
      "outputs": [
        {
          "output_type": "stream",
          "text": [
            "Enter two numbers to find their greatest common denominator.\n",
            "ERROR! Session/line number was not unique in database. History logging moved to new session 65\n",
            "First number: 12\n",
            "Second number: 6\n",
            "The GCD of 12 and 6 is 6\n"
          ],
          "name": "stdout"
        }
      ]
    },
    {
      "cell_type": "code",
      "metadata": {
        "id": "5NMn7qotvicE",
        "colab_type": "code",
        "colab": {
          "base_uri": "https://localhost:8080/",
          "height": 118
        },
        "outputId": "e42860cb-24e3-459b-bfcd-cef0a786c046"
      },
      "source": [
        "# Here is another way.\n",
        "\n",
        "a = int(input('First number: '))\n",
        "b = int(input('Second number: '))\n",
        "\n",
        "factors_a = []\n",
        "\n",
        "for i in range(1, a + 1):\n",
        "  if a % i == 0:\n",
        "    factors_a.append(i)\n",
        "print(f'The factors of {a} are {factors_a}')\n",
        "\n",
        "factors_b = []\n",
        "\n",
        "for j in range(1, b + 1):\n",
        "  if b % j == 0:\n",
        "    factors_b.append(j)\n",
        "print(f'The factors of {b} are {factors_b}')\n",
        "\n",
        "set_a = set(factors_a)\n",
        "set_b = set(factors_b)\n",
        "print(set_a, set_b)\n",
        "\n",
        "intersect = set_b.intersection(set_a)\n",
        "list_intersect = sorted(list(intersect))\n",
        "print(f'The GCD is {list_intersect.pop()}')  # It is sorted, so pop off the last item!"
      ],
      "execution_count": 9,
      "outputs": [
        {
          "output_type": "stream",
          "text": [
            "First number: 14\n",
            "Second number: 3\n",
            "The factors of 14 are [1, 2, 7, 14]\n",
            "The factors of 3 are [1, 3]\n",
            "{1, 2, 14, 7} {1, 3}\n",
            "The GCD is 1\n"
          ],
          "name": "stdout"
        }
      ]
    },
    {
      "cell_type": "markdown",
      "metadata": {
        "id": "HvXqnAyuT-Z8",
        "colab_type": "text"
      },
      "source": [
        "## SHAPES\n",
        "\n",
        "\n"
      ]
    },
    {
      "cell_type": "markdown",
      "metadata": {
        "id": "OU_s6uQgUQf-",
        "colab_type": "text"
      },
      "source": [
        "### P1.PY"
      ]
    },
    {
      "cell_type": "code",
      "metadata": {
        "id": "ruFtcQasT-Z9",
        "colab_type": "code",
        "outputId": "6388081f-67f9-4e7a-ae0b-025f8cf2105a",
        "colab": {
          "base_uri": "https://localhost:8080/",
          "height": 118
        }
      },
      "source": [
        "\"\"\"\n",
        "Build a Triangle I \n",
        "\n",
        "Use a FOR loop to print a triangle of stars that looks like this:\n",
        "\n",
        "*\n",
        "**\n",
        "***\n",
        "****\n",
        "*****\n",
        "\n",
        "\"\"\"\n",
        "stars = []\n",
        "\n",
        "for i in range(0, 6):\n",
        "  stars.append('*')\n",
        "  print(''.join(stars))  # Removing the commas and brackets!"
      ],
      "execution_count": 12,
      "outputs": [
        {
          "output_type": "stream",
          "text": [
            "*\n",
            "**\n",
            "***\n",
            "****\n",
            "*****\n",
            "******\n"
          ],
          "name": "stdout"
        }
      ]
    },
    {
      "cell_type": "markdown",
      "metadata": {
        "colab_type": "text",
        "id": "FSN_Wqyf8UnQ"
      },
      "source": [
        "### P2.PY"
      ]
    },
    {
      "cell_type": "code",
      "metadata": {
        "colab_type": "code",
        "id": "6oJisy5A8UnV",
        "colab": {
          "base_uri": "https://localhost:8080/",
          "height": 101
        },
        "outputId": "a92c4ca5-c4f1-414b-d351-ef74e4a284f4"
      },
      "source": [
        "\"\"\"\n",
        "Build a Triangle II\n",
        "\n",
        "Use a WHILE loop to print a triangle of stars that looks like this:\n",
        "\n",
        "*\n",
        "**\n",
        "***\n",
        "****\n",
        "*****\n",
        "\n",
        "\"\"\"\n",
        "\n",
        "i = 1\n",
        "stars = []\n",
        "\n",
        "while i < 6:\n",
        "  stars.append(\"*\")\n",
        "  print(''.join(stars)) \n",
        "  i = i + 1"
      ],
      "execution_count": 13,
      "outputs": [
        {
          "output_type": "stream",
          "text": [
            "*\n",
            "**\n",
            "***\n",
            "****\n",
            "*****\n"
          ],
          "name": "stdout"
        }
      ]
    },
    {
      "cell_type": "markdown",
      "metadata": {
        "id": "kE68tEQnT-aE",
        "colab_type": "text"
      },
      "source": [
        "\n",
        "\n",
        "### P3.PY\n",
        "\n",
        "\n"
      ]
    },
    {
      "cell_type": "code",
      "metadata": {
        "id": "n2pxG5J6T-aF",
        "colab_type": "code",
        "outputId": "01a068f7-1046-423e-fdb6-40c496a0f822",
        "colab": {
          "base_uri": "https://localhost:8080/",
          "height": 101
        }
      },
      "source": [
        "\"\"\"\n",
        "Build a Pyramid I\n",
        "\n",
        "Use a FOR loop to print a pyramid of stars that looks like this:\n",
        "\n",
        "    *\n",
        "   ***\n",
        "  *****\n",
        " *******\n",
        "*********\n",
        "\n",
        "\"\"\"\n",
        "max_ = 9\n",
        "\n",
        "for i in range(1, 10, 2):\n",
        "  diff = int((max_ - i) / 2)\n",
        "  spaces = [\" \"] * diff\n",
        "  stars = [\"*\"] * i\n",
        "  print(\"\".join(spaces) + \"\".join(stars) + \"\".join(spaces))"
      ],
      "execution_count": 17,
      "outputs": [
        {
          "output_type": "stream",
          "text": [
            "    *    \n",
            "   ***   \n",
            "  *****  \n",
            " ******* \n",
            "*********\n"
          ],
          "name": "stdout"
        }
      ]
    },
    {
      "cell_type": "markdown",
      "metadata": {
        "colab_type": "text",
        "id": "I-A5Y-oo8Una"
      },
      "source": [
        "### P4.PY\n"
      ]
    },
    {
      "cell_type": "code",
      "metadata": {
        "colab_type": "code",
        "id": "UwNy5b028Unb",
        "colab": {
          "base_uri": "https://localhost:8080/",
          "height": 101
        },
        "outputId": "4ca23d28-9643-4415-c364-1acc26ce710a"
      },
      "source": [
        "\"\"\"\n",
        "Build a Pyramid II\n",
        "\n",
        "Use a WHILE loop to print a pyramid of stars that looks like this:\n",
        "\n",
        "    *\n",
        "   ***\n",
        "  *****\n",
        " *******\n",
        "*********\n",
        "\n",
        "\"\"\"\n",
        "i = 1\n",
        "max_ = 9\n",
        "\n",
        "while i < 10:\n",
        "  diff = int((max_ - i) / 2)\n",
        "  spaces = [\" \"] * diff\n",
        "  stars = [\"*\"] * i\n",
        "  i = i + 2\n",
        "  print(\"\".join(spaces) + \"\".join(stars) + \"\".join(spaces))"
      ],
      "execution_count": 23,
      "outputs": [
        {
          "output_type": "stream",
          "text": [
            "    *    \n",
            "   ***   \n",
            "  *****  \n",
            " ******* \n",
            "*********\n"
          ],
          "name": "stdout"
        }
      ]
    },
    {
      "cell_type": "markdown",
      "metadata": {
        "id": "wtaxsnSST-aH",
        "colab_type": "text"
      },
      "source": [
        "\n",
        "\n",
        "### P5.PY\n",
        "\n",
        "\n"
      ]
    },
    {
      "cell_type": "code",
      "metadata": {
        "id": "fiYt3OQrT-aI",
        "colab_type": "code",
        "colab": {
          "base_uri": "https://localhost:8080/",
          "height": 185
        },
        "outputId": "7bb428d5-75c6-45b9-e744-eeed6f510954"
      },
      "source": [
        "\"\"\"\n",
        "Build a Diamond I\n",
        "\n",
        "Use a FOR loop to print a diamond of stars that looks like this:\n",
        "\n",
        "    *\n",
        "   ***\n",
        "  *****\n",
        " *******\n",
        "*********\n",
        " *******\n",
        "  *****\n",
        "   ***\n",
        "    *\n",
        "\"\"\"\n",
        "\n",
        "max_ = 9\n",
        "\n",
        "for i in range(1, 10, 2):\n",
        "  diff = int((max_ - i) / 2)\n",
        "  spaces = [\" \"] * diff\n",
        "  stars = [\"*\"] * i\n",
        "  print(\"\".join(spaces) + \"\".join(stars) + \"\".join(spaces))\n",
        "for i in range(9, 0, -2):\n",
        "  diff = int((max_ - i) / 2)\n",
        "  spaces = [\" \"] * diff\n",
        "  stars = [\"*\"] * i\n",
        "  print(\"\".join(spaces) + \"\".join(stars) + \"\".join(spaces))"
      ],
      "execution_count": 27,
      "outputs": [
        {
          "output_type": "stream",
          "text": [
            "    *    \n",
            "   ***   \n",
            "  *****  \n",
            " ******* \n",
            "*********\n",
            "*********\n",
            " ******* \n",
            "  *****  \n",
            "   ***   \n",
            "    *    \n"
          ],
          "name": "stdout"
        }
      ]
    },
    {
      "cell_type": "markdown",
      "metadata": {
        "colab_type": "text",
        "id": "l7AOi4Xa8Une"
      },
      "source": [
        "### P6.PY"
      ]
    },
    {
      "cell_type": "code",
      "metadata": {
        "colab_type": "code",
        "id": "oK7nfy_D8Unj",
        "colab": {}
      },
      "source": [
        "\"\"\"\n",
        "Build a Diamond II\n",
        "\n",
        "Use a WHILE loop to print a diamond of stars that looks like this:\n",
        "\n",
        "    *\n",
        "   ***\n",
        "  *****\n",
        " *******\n",
        "*********\n",
        " *******\n",
        "  *****\n",
        "   ***\n",
        "    *\n",
        "\"\"\"\n",
        "\n",
        "while i < 10:\n",
        "  diff = int((max_ - i) / 2)\n",
        "  spaces = [\" \"] * diff\n",
        "  stars = [\"*\"] * i\n",
        "  i = i + 2\n",
        "  print(\"\".join(spaces) + \"\".join(stars) + \"\".join(spaces))\n",
        "\n",
        "i = 9\n",
        "while i > 0:\n",
        "  diff = int((max_ - i) / 2)\n",
        "  spaces = [\" \"] * diff\n",
        "  stars = [\"*\"] * i\n",
        "  i = i - 2\n",
        "  print(\"\".join(spaces) + \"\".join(stars) + \"\".join(spaces))"
      ],
      "execution_count": 0,
      "outputs": []
    },
    {
      "cell_type": "markdown",
      "metadata": {
        "id": "pCsSUlIBT-aK",
        "colab_type": "text"
      },
      "source": [
        "## LOOP_CHALLENGES\n",
        "\n"
      ]
    },
    {
      "cell_type": "markdown",
      "metadata": {
        "id": "jwd1KZXKUTAc",
        "colab_type": "text"
      },
      "source": [
        "### P1.PY"
      ]
    },
    {
      "cell_type": "code",
      "metadata": {
        "id": "cKlAnBVhT-aL",
        "colab_type": "code",
        "colab": {}
      },
      "source": [
        "\"\"\"\n",
        "Valid Passwords\n",
        "\"\"\"\n",
        "\n",
        "# Check the validity of password input by users based on the below security requirements: At least 1 letter between [a-z] and 1 letter between [A-Z].\n",
        "\"\"\"\n",
        "# At least 1 letter between [a-z] and 1 letter between [A-Z].\n",
        "#At least 1 number between [0-9].\n",
        "At least 1 character from [$#@].\n",
        "Minimum length 6 characters.\n",
        "Maximum length 16 characters.\n",
        "\"\"\"\n",
        "# Hint: Look up the documentation for the \"re\" library and it's \".search()\" method.\n",
        "\n",
        "grades = {}\n",
        "unique_names = []\n",
        "count = 2\n",
        "for i in names:\n",
        "  if i in unique_names:\n",
        "     i = i + str(count)\n",
        "     count += 1\n",
        "  unique_names.append(i)\n",
        "  idx = unique_names.index(i)\n",
        "  grades.update({i:scores[idx]})\n",
        "print(grades)\n",
        "\n",
        "# I stopped here (still working on it)."
      ],
      "execution_count": 0,
      "outputs": []
    },
    {
      "cell_type": "markdown",
      "metadata": {
        "id": "lDd1dMe5T-aN",
        "colab_type": "text"
      },
      "source": [
        "\n",
        "\n",
        "### P2.PY\n",
        "\n",
        "\n"
      ]
    },
    {
      "cell_type": "code",
      "metadata": {
        "id": "n8kuflOLT-aR",
        "colab_type": "code",
        "outputId": "cf623028-185b-4ce8-8d56-dbe9a077a98d",
        "colab": {
          "base_uri": "https://localhost:8080/",
          "height": 34
        }
      },
      "source": [
        "\"\"\"\n",
        "Prime Numbers I\n",
        "\"\"\"\n",
        "\n",
        "# Check if a number input by a user is prime or not. \n",
        "# If it is NOT a prime number, print out that it is not a prime number. \n",
        "# If it IS a prime number, print out that it is a prime number \n",
        "# and give an example of two of its factors. \n",
        "# Hint: Prime numbers must be greater than 1.\n",
        "\n",
        "# Example of output for a NON-prime:\n",
        "# 12 is not a prime number\n",
        "# For example, 2 x 6 = 12\n",
        "\n",
        "user_input = int(input(\"Enter a number to check if it's prime: \"))\n",
        "\n",
        "holder = []\n",
        "\n",
        "if user_input > 1:\n",
        "  for i in range(2, user_input):\n",
        "    if (user_input % i) == 0:\n",
        "      print(f'{user_input} \"is not a prime number')\n",
        "      break\n",
        "else:\n",
        "  print(f'{user_input} is a prime number')"
      ],
      "execution_count": 0,
      "outputs": [
        {
          "output_type": "stream",
          "text": [
            "Enter a number to check if it's prime: 13\n"
          ],
          "name": "stdout"
        }
      ]
    }
  ]
}