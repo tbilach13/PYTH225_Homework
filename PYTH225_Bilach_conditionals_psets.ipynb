{
  "nbformat": 4,
  "nbformat_minor": 0,
  "metadata": {
    "colab": {
      "name": "PYTH225_Bilach_conditionals_psets.ipynb",
      "provenance": [],
      "collapsed_sections": [],
      "include_colab_link": true
    },
    "kernelspec": {
      "name": "python3",
      "display_name": "Python 3"
    }
  },
  "cells": [
    {
      "cell_type": "markdown",
      "metadata": {
        "id": "view-in-github",
        "colab_type": "text"
      },
      "source": [
        "<a href=\"https://colab.research.google.com/github/tbilach13/PYTH225_Homework/blob/master/PYTH225_Bilach_conditionals_psets.ipynb\" target=\"_parent\"><img src=\"https://colab.research.google.com/assets/colab-badge.svg\" alt=\"Open In Colab\"/></a>"
      ]
    },
    {
      "cell_type": "markdown",
      "metadata": {
        "id": "FiL9pv11VtnR",
        "colab_type": "text"
      },
      "source": [
        "#  CONDITIONALS\n",
        "\n",
        "\n"
      ]
    },
    {
      "cell_type": "markdown",
      "metadata": {
        "id": "gijpYMCLV00L",
        "colab_type": "text"
      },
      "source": [
        "## WEATHER"
      ]
    },
    {
      "cell_type": "markdown",
      "metadata": {
        "id": "KL7ytXn4V2WB",
        "colab_type": "text"
      },
      "source": [
        "### P1.PY"
      ]
    },
    {
      "cell_type": "code",
      "metadata": {
        "id": "e32ChHBAVtnU",
        "colab_type": "code",
        "outputId": "068e9204-3384-4c6d-e4d7-14805cdb281c",
        "colab": {
          "base_uri": "https://localhost:8080/",
          "height": 85
        }
      },
      "source": [
        "\"\"\"\n",
        "Weather I - Do you need boots?\n",
        "\"\"\"\n",
        "\n",
        "# Use the values of the vars defined below to ouput the correct contextual answer to the questions below. \n",
        "# (Note: The variables themselves ARE the questions.)\n",
        "\n",
        "# Example:\n",
        "## am_i_hungry = False\n",
        "## am_i_tired = True\n",
        "## do_i_need_to_stay_awake = False\n",
        "\n",
        "## should_i_drink_coffee_now = am_i_tired and do_i_need_to_stay_awake\n",
        "\n",
        "## ^^ This ^^ evaluates to False. If you're tired and don't need to stay awake, you don't need to drink coffee!\n",
        "\n",
        "is_it_raining = True\n",
        "is_it_snowing = False\n",
        "\n",
        "do_i_need_snow_boots = (is_it_raining == True) and (not is_it_snowing == False)\n",
        "can_i_skip_snow_boots = (is_it_raining == True) or (is_it_snowing == False)\n",
        "do_i_need_rain_boots = (is_it_raining == True) or (is_it_snowing == False)\n",
        "can_i_skip_rain_boots = (not is_it_raining == True)\n",
        "\n",
        "# All variables are booleans and indicate either True or False\n",
        "# depending on how the variable is worded\n",
        "\n",
        "print(do_i_need_snow_boots)\n",
        "print(can_i_skip_snow_boots)\n",
        "print(do_i_need_rain_boots)\n",
        "print(can_i_skip_rain_boots)"
      ],
      "execution_count": 0,
      "outputs": [
        {
          "output_type": "stream",
          "text": [
            "False\n",
            "True\n",
            "True\n",
            "False\n"
          ],
          "name": "stdout"
        }
      ]
    },
    {
      "cell_type": "markdown",
      "metadata": {
        "id": "t9cxGL-8VtnX",
        "colab_type": "text"
      },
      "source": [
        "\n",
        "\n",
        "### P2.PY\n",
        "\n",
        "\n"
      ]
    },
    {
      "cell_type": "code",
      "metadata": {
        "id": "y80DTzliVtnY",
        "colab_type": "code",
        "outputId": "8740abcd-4658-40e3-e543-d399b57ae99b",
        "colab": {
          "base_uri": "https://localhost:8080/",
          "height": 85
        }
      },
      "source": [
        "\"\"\"\n",
        "Weather II - Precipitation\n",
        "\"\"\"\n",
        "\n",
        "# Repeat the same process as p1, using this new set of variables.\n",
        "\n",
        "sunny = True\n",
        "raining = True\n",
        "snowing = False\n",
        "\n",
        "is_it_sunny = (sunny == True)\n",
        "is_there_precipitation = (raining == True) or (snowing == True)\n",
        "is_it_sleeting = (raining == True) and (not snowing == False)\n",
        "is_there_rainbow = (sunny == True) and (raining == True)\n",
        "\n",
        "print(is_it_sunny)\n",
        "print(is_there_precipitation)\n",
        "print(is_it_sleeting)\n",
        "print(is_there_rainbow)"
      ],
      "execution_count": 0,
      "outputs": [
        {
          "output_type": "stream",
          "text": [
            "True\n",
            "True\n",
            "False\n",
            "True\n"
          ],
          "name": "stdout"
        }
      ]
    },
    {
      "cell_type": "markdown",
      "metadata": {
        "id": "777sx1WCVtno",
        "colab_type": "text"
      },
      "source": [
        "\n",
        "\n",
        "### P3.PY\n",
        "\n",
        "\n"
      ]
    },
    {
      "cell_type": "code",
      "metadata": {
        "id": "9dNGqX2wVtnp",
        "colab_type": "code",
        "outputId": "0ae9cb09-7ccc-48fb-bd04-c4f5ff391b9e",
        "colab": {
          "base_uri": "https://localhost:8080/",
          "height": 85
        }
      },
      "source": [
        "\"\"\"\n",
        "Weather III - Describe Conditions\n",
        "\"\"\"\n",
        "\n",
        "# Repeat the same process as p1, using this new set of variables.\n",
        "\n",
        "is_it_warm = True\n",
        "is_it_humid = True\n",
        "is_it_cold = False\n",
        "is_it_icy = False\n",
        "is_it_foggy = False\n",
        "is_it_windy = False\n",
        "is_it_overcast = True\n",
        "\n",
        "is_it_summer_weather = (is_it_warm == True) and (is_it_humid == True)\n",
        "is_rain_coming = (is_it_overcast == True) or (is_it_foggy == False)\n",
        "is_it_muggy = (is_it_humid == True) and (is_it_overcast == True) and (is_it_warm == True)\n",
        "do_i_need_coat = (is_it_cold == True) or (is_it_windy == True)\n",
        "\n",
        "print(is_it_summer_weather)\n",
        "print(is_rain_coming) # it could possibly rain\n",
        "print(is_it_muggy)\n",
        "print(do_i_need_coat)"
      ],
      "execution_count": 0,
      "outputs": [
        {
          "output_type": "stream",
          "text": [
            "True\n",
            "True\n",
            "True\n",
            "False\n"
          ],
          "name": "stdout"
        }
      ]
    },
    {
      "cell_type": "markdown",
      "metadata": {
        "id": "c70y61m1Vtn3",
        "colab_type": "text"
      },
      "source": [
        "## LOGIC\n",
        "\n",
        "\n"
      ]
    },
    {
      "cell_type": "markdown",
      "metadata": {
        "id": "6IGtJU8oV5a8",
        "colab_type": "text"
      },
      "source": [
        "### P1.PY"
      ]
    },
    {
      "cell_type": "code",
      "metadata": {
        "id": "8dx3WRHBVtn4",
        "colab_type": "code",
        "outputId": "d1aac84c-7789-42cd-c8f0-ec685cf82337",
        "colab": {
          "base_uri": "https://localhost:8080/",
          "height": 34
        }
      },
      "source": [
        "\"\"\"\n",
        "Calculate Grade\n",
        "\"\"\"\n",
        "\n",
        "# grade = 15  # expect this to be a number\n",
        "\n",
        "# write a program that will print the \"letter\"\n",
        "# equivalent of the grade, for example:\n",
        "# when grade = 90 # -> expect A\n",
        "# when grade = 80 # -> expect B\n",
        "# when grade = 70 # -> expect C\n",
        "# when grade = 60 # -> expect D\n",
        "# when grade = 54 # -> expect F\n",
        "# when grade = -10 # -> expect Error\n",
        "# when grade = 10000 # -> expect Error\n",
        "# when grade = \"lol skool sucks\" # -> expect Error\n",
        "\n",
        "# First, I will use a series of if statements\n",
        "\n",
        "grade = 70  # expect this to be a number\n",
        "\n",
        "if grade >= 90 and grade <= 100:\n",
        "  print(\"A\")\n",
        "if grade >= 80 and grade < 90:\n",
        "  print(\"B\")\n",
        "if grade >= 70 and grade < 80:\n",
        "  print(\"C\")\n",
        "if grade >= 65 and grade < 70:\n",
        "  print(\"D\")\n",
        "if grade < 65:\n",
        "  print(\"F\")\n",
        "\n",
        "# Note, 101 will not print\n",
        "# grade = -1 return an F\n",
        "# We have not accounted for negative values"
      ],
      "execution_count": 0,
      "outputs": [
        {
          "output_type": "stream",
          "text": [
            "C\n"
          ],
          "name": "stdout"
        }
      ]
    },
    {
      "cell_type": "code",
      "metadata": {
        "id": "NOC6YpcBMmHZ",
        "colab_type": "code",
        "outputId": "07ead834-e3a1-4264-b4c6-36806c01213e",
        "colab": {
          "base_uri": "https://localhost:8080/",
          "height": 34
        }
      },
      "source": [
        "# Next, I will use if and elif\n",
        "\n",
        "grade = 79\n",
        "\n",
        "if type(grade) != int and type(grade) != float:\n",
        "  print(\"Error: Entry not valid!\")\n",
        "\n",
        "elif grade >= 90 and grade <= 100:\n",
        "  print(\"You got an A\")\n",
        "elif grade >= 80 and grade < 90:\n",
        "  print(\"You got a B\")\n",
        "elif grade >= 70 and grade < 80:\n",
        "  print(\"You got a C\")\n",
        "elif grade >= 65 and grade < 70:\n",
        "  print(\"You got a D\")\n",
        "elif grade >= 0 and grade < 65:\n",
        "  print(\"Big time failure!\")\n",
        "else:\n",
        "  print(\"Either it is a negative number or it's above 100\")\n",
        "\n",
        "# if type(grade) != int or type(grade) != float:\n",
        "# Using the logical operator 'or' does not work\n",
        "# Note, 75 is not a float;\n",
        "# Also, 75.5 is not an integer\n",
        "# Thus, the error will print since one of these is True!\n",
        "# However, the 'and' logical operator \n",
        "# would require it to 'not' be both\n",
        "# This could capture a string variable,\n",
        "# which is neither an integer nor a float"
      ],
      "execution_count": 0,
      "outputs": [
        {
          "output_type": "stream",
          "text": [
            "You got a C\n"
          ],
          "name": "stdout"
        }
      ]
    },
    {
      "cell_type": "code",
      "metadata": {
        "id": "pNNZZ3ggMjBx",
        "colab_type": "code",
        "outputId": "bf045944-682f-4118-a87e-a32eb52439ea",
        "colab": {
          "base_uri": "https://localhost:8080/",
          "height": 34
        }
      },
      "source": [
        "# Another way to check if grade is int:\n",
        "# isinstance(grade, str)\n",
        "# The format below requires less for the first condition\n",
        "\n",
        "grade = \"Thomas\"\n",
        "\n",
        "if isinstance(grade, str):\n",
        "  print(\"Grade type is not valid!\")\n",
        "elif grade < 0 or grade > 100:\n",
        "  print(\"Grade is not valid, must be 0 <= grade <= 100\")\n",
        "elif grade >= 90:\n",
        "  print(\"A\")\n",
        "elif grade >= 80:\n",
        "  print(\"B\")\n",
        "elif grade >= 70:\n",
        "  print(\"C\")\n",
        "elif grade >= 65:\n",
        "  print(\"D\")\n",
        "else:\n",
        "  print(\"F\")"
      ],
      "execution_count": 0,
      "outputs": [
        {
          "output_type": "stream",
          "text": [
            "F\n"
          ],
          "name": "stdout"
        }
      ]
    },
    {
      "cell_type": "markdown",
      "metadata": {
        "id": "HLfJLQFKVtoK",
        "colab_type": "text"
      },
      "source": [
        "\n",
        "\n",
        "### P2.PY\n",
        "\n",
        "\n"
      ]
    },
    {
      "cell_type": "code",
      "metadata": {
        "id": "g3fT3CxqVtoO",
        "colab_type": "code",
        "outputId": "258bba4c-1b00-4815-e13f-057d86404efc",
        "colab": {
          "base_uri": "https://localhost:8080/",
          "height": 34
        }
      },
      "source": [
        "\"\"\"\n",
        "Sign of Product\n",
        "\"\"\"\n",
        "\n",
        "# Given three numbers, a, b, c, without multiplying, determine the sign of their product.\n",
        "\n",
        "# EXAMPLE: a = -5, b = 6, c = -4, print 1\n",
        "\n",
        "# EXAMPLE: a = 5, b = 6, c = -4, print -1\n",
        "\n",
        "a = 3\n",
        "b = -1\n",
        "c = \"T\"\n",
        "\n",
        "product = a*b*c\n",
        "\n",
        "if not isinstance(a, (int, float)) or not isinstance(b, (int, float)) or not isinstance(c, (int, float)):\n",
        "  print(\"We can't do math with strings!\")\n",
        "\n",
        "elif a > 0 and b > 0 and c > 0:\n",
        "  print(f\"{product} is a positive number\")\n",
        "elif a > 0 and b > 0 and c < 0:  # At least one negative\n",
        "  print(f\"{product} is a negative number\")\n",
        "elif a > 0 and b < 0 and c > 0:  # At least one negative\n",
        "  print(f\"{product} is a negative number\")\n",
        "elif a < 0 and b > 0 and c > 0:  # At least one negative\n",
        "  print(f\"{product} is a negative number\")\n",
        "elif a < 0 and b < 0 and c < 0:  # All negative results in a negative!\n",
        "  print(f\"{product} is a negative number\")\n",
        "elif a < 0 and b < 0 and c > 0:\n",
        "  print(f\"{product} is a positive number\")\n",
        "elif a < 0 and b > 0 and c < 0:\n",
        "  print(f\"{product} is a positive number\")\n",
        "elif a > 0 and b < 0 and c < 0:\n",
        "  print(f\"{product} is a positive number\")\n",
        "else:\n",
        "  print(f\"A product of {product} shows there was at least one zero!\")\n",
        "\n",
        "# Note, the rest are all positive!\n",
        "# I also included a condition\n",
        "# in case any variables are strings!"
      ],
      "execution_count": 0,
      "outputs": [
        {
          "output_type": "stream",
          "text": [
            "We can't do math with strings!\n"
          ],
          "name": "stdout"
        }
      ]
    },
    {
      "cell_type": "code",
      "metadata": {
        "id": "JE-FaT0P0N3I",
        "colab_type": "code",
        "outputId": "29baef2a-ee06-4437-c5cd-f8503cce7a51",
        "colab": {
          "base_uri": "https://localhost:8080/",
          "height": 51
        }
      },
      "source": [
        "\"\"\"\n",
        "Here is another way. The logic is, if there is at least one\n",
        "negative value, then it the product of all three is negative.\n",
        "Likewise, if all three values are negative, then the resulting\n",
        "product is negative as well.\n",
        "\"\"\"\n",
        "\n",
        "a = 0\n",
        "b = 0\n",
        "c = 0\n",
        "\n",
        "is_a_negative = a < 0\n",
        "is_b_negative = b < 0\n",
        "is_c_negative = c < 0\n",
        "\n",
        "summed = int(is_a_negative) + int(is_b_negative) + int(is_c_negative)\n",
        "if a == 0 or b == 0 or c == 0:\n",
        "  print(\"Zero\")\n",
        "elif summed == 1 or summed == 3:\n",
        "  print(\"Negative\")\n",
        "else:\n",
        "  print(\"Positive\")\n",
        "\n",
        "print(a*b*c)"
      ],
      "execution_count": 0,
      "outputs": [
        {
          "output_type": "stream",
          "text": [
            "Zero\n",
            "0\n"
          ],
          "name": "stdout"
        }
      ]
    },
    {
      "cell_type": "markdown",
      "metadata": {
        "id": "eUuhYKriVtoS",
        "colab_type": "text"
      },
      "source": [
        "\n",
        "\n",
        "### P3.PY\n",
        "\n",
        "\n"
      ]
    },
    {
      "cell_type": "code",
      "metadata": {
        "id": "gtAMAAaYVtoT",
        "colab_type": "code",
        "outputId": "9bd3b959-b728-4f88-c2b1-45c17f2407bb",
        "colab": {
          "base_uri": "https://localhost:8080/",
          "height": 51
        }
      },
      "source": [
        "\"\"\"\n",
        "Any Uppercase\n",
        "\"\"\"\n",
        "\n",
        "# Given a string str, determine if there are any uppercase values in it. \n",
        "# Use only conditional statements and string methods (you may have to look some up!)\n",
        "\n",
        "# EXAMPLE: str = \"teSt\", print True\n",
        "\n",
        "# Defining the variables\n",
        "\n",
        "some_upper_case_words = \"Thomas tHomAs tom tOm\"\n",
        "all_upper_case = \"THOMAS\"\n",
        "\n",
        "# In this case, only some of the letters are uppercase\n",
        "\n",
        "if some_upper_case_words.isupper():\n",
        "  print(\"All uppercase!\")\n",
        "else:\n",
        "  print(\"Not all are uppercase!\")\n",
        "\n",
        "# In this case, all of the letters are uppercase\n",
        "\n",
        "if all_upper_case.isupper():\n",
        "  print(\"All uppercase!\")\n",
        "else:\n",
        "  print(\"Not all are uppercase!\")\n"
      ],
      "execution_count": 0,
      "outputs": [
        {
          "output_type": "stream",
          "text": [
            "Not all are uppercase!\n",
            "All uppercase!\n"
          ],
          "name": "stdout"
        }
      ]
    },
    {
      "cell_type": "markdown",
      "metadata": {
        "id": "wG8CE6QTVtoW",
        "colab_type": "text"
      },
      "source": [
        "\n",
        "\n",
        "### P4.PY\n",
        "\n",
        "\n"
      ]
    },
    {
      "cell_type": "code",
      "metadata": {
        "id": "xZ5Mt4jSVtoX",
        "colab_type": "code",
        "colab": {}
      },
      "source": [
        "\"\"\"\n",
        "Empty Strings\n",
        "\"\"\"\n",
        "\n",
        "# Given any empty string, of the form:\n",
        "\n",
        "# ''\n",
        "# ' '\n",
        "# '  '\n",
        "# any other num of spaces...\n",
        "\n",
        "# determine if the str is empty or not (print True or False). \n",
        "# Hint: You'll need to look up how to remove trailing spaces from a string.\n",
        "\n",
        "empty_string = ''  # No space (empty)\n",
        "\n",
        "if len(empty_string) == 0:\n",
        "  print(True)\n",
        "else:\n",
        "  print(f'{False}: There is some space in there!')\n",
        "  \n",
        "\n",
        "empty_string_blanks = ' '  # Multiple spaces\n",
        "\n",
        "if len(empty_string_blanks.strip()) == 0:\n",
        "  print(True)\n",
        "else:\n",
        "  print(f'{False}: There is some space in there!')"
      ],
      "execution_count": 0,
      "outputs": []
    },
    {
      "cell_type": "markdown",
      "metadata": {
        "id": "WlgQdALoVtof",
        "colab_type": "text"
      },
      "source": [
        "\n",
        "\n",
        "### P5.PY\n",
        "\n",
        "\n"
      ]
    },
    {
      "cell_type": "code",
      "metadata": {
        "id": "7_k9rebsVtog",
        "colab_type": "code",
        "colab": {}
      },
      "source": [
        "\"\"\"\n",
        "truthTableEvaluator\n",
        "\"\"\"\n",
        "\n",
        "# Given the following inputs:\n",
        "\n",
        "# P = # True or False\n",
        "# Q = # True or False\n",
        "# op = # '^' (logical AND, conjunction)\n",
        "#      # OR, 'v' (logical OR, disjunction)\n",
        "#      # OR, '->' (logical conditional, implication)\n",
        "#      # OR, '<->' (biconditional)\n",
        "# determine the correct outcome.\n",
        "\n",
        "# https://medium.com/i-math/intro-to-truth-tables-boolean-algebra-73b331dd9b94\n",
        "\n",
        "#Variables:\n",
        "P = True\n",
        "Q = False\n",
        " \n",
        "#SELF:\n",
        "print('Values') \n",
        "print(P)\n",
        "print(Q)\n",
        "\n",
        "#NOT:\n",
        "print('NOT')\n",
        "print(not P)\n",
        "print(not Q)\n",
        "print()\n",
        "\n",
        "#AND\n",
        "print('AND')\n",
        "print('P and P',P and P)\n",
        "print('P and Q',P and Q) \n",
        "print('Q and P', P and Q)\n",
        "print('Q and Q', Q and Q)\n",
        "\n",
        "#OR\n",
        "print('OR')\n",
        "print(P or P)\n",
        "print(P or Q)\n",
        "print(Q or P)\n",
        "print(Q or Q)\n",
        "print()\n",
        "\n",
        "#IF THEN ->\n",
        "\n",
        "print('IF THEN')\n",
        "if P:\n",
        "\tprint(P)\n",
        "if P:\n",
        "\tprint(Q)\n",
        "if Q:\n",
        "\tprint(P)\n",
        "if Q:\n",
        "\tprint(Q)\n",
        "print()\n",
        "\n",
        "#IF AND ONLY IF <->\n",
        "\n",
        "print('IF AND ONLY IF')\n",
        "#P <-> P\n",
        "print('P <-> P',((P == P) and (P == P)))\n",
        "#P <-> Q:\n",
        "print('P <-> Q',((P == Q) and (Q == P)))\n",
        "#Q <-> P:\n",
        "print('Q <-> P',((Q == P) and (P == Q)))\n",
        "#Q <-> Q:\n",
        "print('Q <-> Q',((Q == Q) and (Q == Q)))\n"
      ],
      "execution_count": 0,
      "outputs": []
    },
    {
      "cell_type": "markdown",
      "metadata": {
        "id": "zayFQdU7Vto2",
        "colab_type": "text"
      },
      "source": [
        "## RANDOM NUMBERS\n",
        "\n",
        "\n",
        "\n",
        "\n"
      ]
    },
    {
      "cell_type": "markdown",
      "metadata": {
        "id": "gtAK4fQAV9BC",
        "colab_type": "text"
      },
      "source": [
        "### P1.PY"
      ]
    },
    {
      "cell_type": "code",
      "metadata": {
        "id": "_dlFvP4QVto3",
        "colab_type": "code",
        "colab": {}
      },
      "source": [
        "\"\"\"\n",
        "Generate Traffic Light\n",
        "\"\"\"\n",
        "\n",
        "# import python randomint package\n",
        "\n",
        "from random import randint\n",
        "\n",
        "# generates a random number from 1 to 3\n",
        "\n",
        "random_num = randint(1, 3)\n",
        "\n",
        "# if 1, print 'red'\n",
        "# if 2, print 'green',\n",
        "# if 3, print 'yellow'\n",
        "\n",
        "if random_num == 1:\n",
        "  print('Red')\n",
        "elif random_num == 2:\n",
        "  print('Green')\n",
        "else:\n",
        "  print('Yellow')"
      ],
      "execution_count": 0,
      "outputs": []
    },
    {
      "cell_type": "markdown",
      "metadata": {
        "id": "nO0LSd8SVto5",
        "colab_type": "text"
      },
      "source": [
        "\n",
        "\n",
        "### P2.PY\n",
        "\n",
        "\n"
      ]
    },
    {
      "cell_type": "code",
      "metadata": {
        "id": "Dp5jFc2fVtpF",
        "colab_type": "code",
        "outputId": "b4a821f6-a579-4e47-e3d0-eab8a270f027",
        "colab": {
          "base_uri": "https://localhost:8080/",
          "height": 34
        }
      },
      "source": [
        "\"\"\"\n",
        "Generate Phone Number w/Area Code\n",
        "\"\"\"\n",
        "from random import choice\n",
        "from random import randint\n",
        "\n",
        "three_digits = randint(100, 999)\n",
        "four_digits = randint(1000, 9999)\n",
        "area_codes = ['646', '718', '212']\n",
        "\n",
        "print(f'Here is a random phone number: 1-{choice(area_codes)}-{three_digits}-{four_digits}')\n",
        "\n",
        "# Generate a random phone number using these SPECS:\n",
        "### Should be a string in this format: 1-718-786-2825\n",
        "### Must randomly choose one of these area codes: 646, 718, 212"
      ],
      "execution_count": 0,
      "outputs": [
        {
          "output_type": "stream",
          "text": [
            "Here is a random phone number: 1-718-852-4987\n"
          ],
          "name": "stdout"
        }
      ]
    },
    {
      "cell_type": "markdown",
      "metadata": {
        "id": "gRweE3nDVtpK",
        "colab_type": "text"
      },
      "source": [
        "## RPS\n",
        "\n",
        "\n"
      ]
    },
    {
      "cell_type": "markdown",
      "metadata": {
        "id": "IFUwrDumV_Vn",
        "colab_type": "text"
      },
      "source": [
        "### P1.PY"
      ]
    },
    {
      "cell_type": "code",
      "metadata": {
        "id": "sYTmAYzDVtpL",
        "colab_type": "code",
        "outputId": "720c0d3a-4df1-4fd3-c572-070a142a233b",
        "colab": {
          "base_uri": "https://localhost:8080/",
          "height": 51
        }
      },
      "source": [
        "\"\"\"\n",
        "Play RPS\n",
        "\"\"\"\n",
        "\n",
        "p1 = 'r'  # or 'p' or 's'\n",
        "p2 = 's'  # or 'p' or 's'\n",
        "\n",
        "# Given a p1 and p2\n",
        "# print 1 if p1 has won\n",
        "# print 2 if p2 has won\n",
        "# print 0 if tie\n",
        "# print -1 if invalid input\n",
        "# expects both p1 and p2 inputs to be either\n",
        "# \"r\", \"p\", or \"s\"\n",
        "\n",
        "if (not isinstance(p1, str)) or (not isinstance(p2, str)):\n",
        "  print(\"Invalid!\")\n",
        "\n",
        "elif (p1 == p2):\n",
        "  print(0)\n",
        "elif (p1 == 'r' and p2 == 's') or (p1 == 'p' and p2 == 'r') or (p1 == 's' and p2 == 'p'):\n",
        "  print(1)\n",
        "else:\n",
        "  print(2)\n",
        "\n",
        "print(f'P1 drew {p1} and P2 {p2}')\n",
        "\n",
        "# P1 will always win\n",
        "# P1 and P2 have one value each!"
      ],
      "execution_count": 0,
      "outputs": [
        {
          "output_type": "stream",
          "text": [
            "1\n",
            "P1 drew r and P2 s\n"
          ],
          "name": "stdout"
        }
      ]
    },
    {
      "cell_type": "markdown",
      "metadata": {
        "id": "fp77AykMVtpN",
        "colab_type": "text"
      },
      "source": [
        "\n",
        "\n",
        "### P2.PY\n",
        "\n",
        "\n"
      ]
    },
    {
      "cell_type": "code",
      "metadata": {
        "id": "mKMaxGH8VtpO",
        "colab_type": "code",
        "outputId": "2946196a-db03-459b-f267-59ed6010cf60",
        "colab": {
          "base_uri": "https://localhost:8080/",
          "height": 51
        }
      },
      "source": [
        "\"\"\"\n",
        "Play RPS w/Computer\n",
        "\"\"\"\n",
        "from random import choice\n",
        "\n",
        "p1 = ['r', 'p', 's']  # randomly choose 'r' or 'p' or 's'\n",
        "p2 = ['r', 'p', 's']  # randomly choose 'r' or 'p' or 's'\n",
        "\n",
        "p1_draw = choice(p1)\n",
        "p2_draw = choice(p2)\n",
        "\n",
        "# Given a p1 and p2\n",
        "# print 1 if p1 has won\n",
        "# print 2 if p2 has won\n",
        "# print 0 if tie\n",
        "# print -1 if invalid input\n",
        "# expects both p1 and p2 inputs to be either\n",
        "# \"r\", \"p\", or \"s\"\n",
        "\n",
        "if (not isinstance(p1_draw, str)) or (not isinstance(p2_draw, str)):\n",
        "  print(\"Invalid (You must sample one of the pre-defined strings!)\")\n",
        "\n",
        "elif (p1_draw == p2_draw):\n",
        "  print(0)\n",
        "elif (p1_draw == 'r' and p2_draw == 's') or (p1_draw == 'p' and p2_draw == 'r') or (p1_draw == 's' and p2_draw == 'p'):\n",
        "  print(1)\n",
        "else:\n",
        "  print(2)\n",
        "\n",
        "print(f'P1 drew {p1_draw} and P2 {p2_draw}')\n",
        "\n",
        "# I found all combinations where P1 wins\n",
        "# If P1 is not the winner, then it must be P2\n",
        "# All combinators of P1 and P2 accounted for"
      ],
      "execution_count": 0,
      "outputs": [
        {
          "output_type": "stream",
          "text": [
            "0\n",
            "P1 drew p and P2 p\n"
          ],
          "name": "stdout"
        }
      ]
    },
    {
      "cell_type": "markdown",
      "metadata": {
        "id": "INgOFvdoVtpU",
        "colab_type": "text"
      },
      "source": [
        "\n",
        "\n",
        "### P3.PY\n",
        "\n",
        "\n"
      ]
    },
    {
      "cell_type": "code",
      "metadata": {
        "id": "vhAAHjMSVtpV",
        "colab_type": "code",
        "colab": {}
      },
      "source": [
        "\"\"\"\n",
        "Play RPS w/Input\n",
        "\"\"\"\n",
        "\n",
        "p1_draw = input(f'User 1 - Type rock, paper, or scissors: ')  # from user input\n",
        "p2_draw = input(f'User 2 - Type rock, paper, or scissors: ')  # from user input\n",
        "\n",
        "# Given a p1 and p2\n",
        "# print 1 if p1 has won\n",
        "# print 2 if p2 has won\n",
        "# print 0 if tie\n",
        "# print -1 if invalid input\n",
        "# expects both p1 and p2 inputs to be either\n",
        "# \"r\", \"p\", or \"s\"\n",
        "\n",
        "if (not isinstance(p1_draw, str)) or (not isinstance(p2_draw, str)):\n",
        "  print(\"Invalid!\")\n",
        "\n",
        "elif (p1_draw == p2_draw):\n",
        "  print(0)\n",
        "elif (p1_draw == 'rock' and p2_draw == 'scissors') or (p1_draw == 'paper' and p2_draw == 'rock') or (p1_draw == 'scissors' and p2_draw == 'paper'):\n",
        "  print(1)\n",
        "else:\n",
        "  print(2)\n",
        "\n",
        "print(f'P1 drew {p1_draw} and P2 {p2_draw}')\n"
      ],
      "execution_count": 0,
      "outputs": []
    },
    {
      "cell_type": "markdown",
      "metadata": {
        "id": "SUqNu57OVtpY",
        "colab_type": "text"
      },
      "source": [
        "\n",
        "\n",
        "### P4.PY\n",
        "\n",
        "\n"
      ]
    },
    {
      "cell_type": "code",
      "metadata": {
        "id": "Vmlr5AqSVtpY",
        "colab_type": "code",
        "outputId": "9a573224-5741-4c54-9b89-51f9fe704d88",
        "colab": {
          "base_uri": "https://localhost:8080/",
          "height": 68
        }
      },
      "source": [
        "\"\"\"\n",
        "Play RPS against Computer\n",
        "\"\"\"\n",
        "\n",
        "from random import randint\n",
        "\n",
        "# from user input - we still want validation from above!\n",
        "\n",
        "p1ayer = input(f'Player - Type either rock, paper, or scissors: ')\n",
        "\n",
        "# Randomly generated against computer\n",
        "\n",
        "rps = ['rock', 'paper', 'scissors']\n",
        "computer = rps[randint(0, 2)]\n",
        "\n",
        "# Given a p1 and p2\n",
        "# print 1 if p1 has won\n",
        "# print 2 if p2 has won\n",
        "# print 0 if tie\n",
        "# print -1 if invalid input\n",
        "# expects both p1 and p2 inputs to be either\n",
        "# \"r\", \"p\", or \"s\"\n",
        "\n",
        "if (not isinstance(p1ayer, str)) or (not isinstance(computer, str)):\n",
        "  print(\"Invalid!\")\n",
        "\n",
        "elif (p1ayer == computer):\n",
        "  print(\"Tied with the computer!\")\n",
        "elif (p1ayer == 'rock' and computer == 'scissors') or (p1ayer == 'paper' and computer == 'rock') or (p1ayer == 'scissors' and computer == 'paper'):\n",
        "  print(\"Player won!\")\n",
        "else:\n",
        "  print(\"Computer won!\")\n",
        "\n",
        "print(f'The p1ayer drew {p1ayer} and the computer spit out {computer}')"
      ],
      "execution_count": 0,
      "outputs": [
        {
          "output_type": "stream",
          "text": [
            "Player - Type either rock, paper, or scissors: rock\n",
            "Tied with the computer!\n",
            "The p1ayer drew rock and the computer spit out rock\n"
          ],
          "name": "stdout"
        }
      ]
    },
    {
      "cell_type": "markdown",
      "metadata": {
        "id": "F_7aaMtoVtpt",
        "colab_type": "text"
      },
      "source": [
        "\n",
        "\n",
        "### P5.PY\n",
        "\n",
        "\n"
      ]
    },
    {
      "cell_type": "code",
      "metadata": {
        "id": "U24EGu3VVtpu",
        "colab_type": "code",
        "outputId": "e1ffc8f2-2dac-4a6c-c9e1-b29eb61c7c8a",
        "colab": {
          "base_uri": "https://localhost:8080/",
          "height": 528
        }
      },
      "source": [
        "\"\"\"\n",
        "Play RPS w/Bad Input\n",
        "\"\"\"\n",
        "\n",
        "from random import randint\n",
        "\n",
        "# from user input - we still want validation from above!\n",
        "\n",
        "player = input(f'Player - Type either rock, paper, or scissors: ')\n",
        "\n",
        "# Randomly generated against computer\n",
        "\n",
        "rps = ['rock', 'paper', 'scissors']\n",
        "computer = rps[randint(0, 2)]\n",
        "\n",
        "\"\"\"\n",
        "This is the same as the original RPS problem, \n",
        "except that cannot expect the input to be valid. \n",
        "While we *want* `r` or `p` or `s`, there is a possibility \n",
        "that input can be anything like...\n",
        "\n",
        "* `ROCK` (all caps)\n",
        "* `R` (`r` but capitalized)\n",
        "* `PAPrrRR` (incorrectly spelled, upper/lowercased)\n",
        "\n",
        "Implement conditional statements that will sanitize the \n",
        "user input or let user know that input is invalid.\n",
        "\"\"\"\n",
        "if player not in rps:\n",
        "  print(\"Invalid input!\")\n",
        "elif (not isinstance(p1ayer, str)) or (not isinstance(computer, str)):\n",
        "  print(\"Invalid Type!\")\n",
        "elif (player == computer):\n",
        "  print(\"Tied with the computer!\")\n",
        "elif (player == 'rock' and computer == 'scissors') or (player == 'paper' and computer == 'rock') or (player == 'scissors' and computer == 'paper'):\n",
        "  print(\"Player won!\")\n",
        "else:\n",
        "  print(\"Computer won!\")\n",
        "\n",
        "print(f'The p1ayer drew {player} and the computer spit out {computer}')"
      ],
      "execution_count": 0,
      "outputs": [
        {
          "output_type": "error",
          "ename": "KeyboardInterrupt",
          "evalue": "ignored",
          "traceback": [
            "\u001b[0;31m---------------------------------------------------------------------------\u001b[0m",
            "\u001b[0;31mKeyboardInterrupt\u001b[0m                         Traceback (most recent call last)",
            "\u001b[0;32m/usr/local/lib/python3.6/dist-packages/ipykernel/kernelbase.py\u001b[0m in \u001b[0;36m_input_request\u001b[0;34m(self, prompt, ident, parent, password)\u001b[0m\n\u001b[1;32m    729\u001b[0m             \u001b[0;32mtry\u001b[0m\u001b[0;34m:\u001b[0m\u001b[0;34m\u001b[0m\u001b[0;34m\u001b[0m\u001b[0m\n\u001b[0;32m--> 730\u001b[0;31m                 \u001b[0mident\u001b[0m\u001b[0;34m,\u001b[0m \u001b[0mreply\u001b[0m \u001b[0;34m=\u001b[0m \u001b[0mself\u001b[0m\u001b[0;34m.\u001b[0m\u001b[0msession\u001b[0m\u001b[0;34m.\u001b[0m\u001b[0mrecv\u001b[0m\u001b[0;34m(\u001b[0m\u001b[0mself\u001b[0m\u001b[0;34m.\u001b[0m\u001b[0mstdin_socket\u001b[0m\u001b[0;34m,\u001b[0m \u001b[0;36m0\u001b[0m\u001b[0;34m)\u001b[0m\u001b[0;34m\u001b[0m\u001b[0;34m\u001b[0m\u001b[0m\n\u001b[0m\u001b[1;32m    731\u001b[0m             \u001b[0;32mexcept\u001b[0m \u001b[0mException\u001b[0m\u001b[0;34m:\u001b[0m\u001b[0;34m\u001b[0m\u001b[0;34m\u001b[0m\u001b[0m\n",
            "\u001b[0;32m/usr/local/lib/python3.6/dist-packages/jupyter_client/session.py\u001b[0m in \u001b[0;36mrecv\u001b[0;34m(self, socket, mode, content, copy)\u001b[0m\n\u001b[1;32m    802\u001b[0m         \u001b[0;32mtry\u001b[0m\u001b[0;34m:\u001b[0m\u001b[0;34m\u001b[0m\u001b[0;34m\u001b[0m\u001b[0m\n\u001b[0;32m--> 803\u001b[0;31m             \u001b[0mmsg_list\u001b[0m \u001b[0;34m=\u001b[0m \u001b[0msocket\u001b[0m\u001b[0;34m.\u001b[0m\u001b[0mrecv_multipart\u001b[0m\u001b[0;34m(\u001b[0m\u001b[0mmode\u001b[0m\u001b[0;34m,\u001b[0m \u001b[0mcopy\u001b[0m\u001b[0;34m=\u001b[0m\u001b[0mcopy\u001b[0m\u001b[0;34m)\u001b[0m\u001b[0;34m\u001b[0m\u001b[0;34m\u001b[0m\u001b[0m\n\u001b[0m\u001b[1;32m    804\u001b[0m         \u001b[0;32mexcept\u001b[0m \u001b[0mzmq\u001b[0m\u001b[0;34m.\u001b[0m\u001b[0mZMQError\u001b[0m \u001b[0;32mas\u001b[0m \u001b[0me\u001b[0m\u001b[0;34m:\u001b[0m\u001b[0;34m\u001b[0m\u001b[0;34m\u001b[0m\u001b[0m\n",
            "\u001b[0;32m/usr/local/lib/python3.6/dist-packages/zmq/sugar/socket.py\u001b[0m in \u001b[0;36mrecv_multipart\u001b[0;34m(self, flags, copy, track)\u001b[0m\n\u001b[1;32m    465\u001b[0m         \"\"\"\n\u001b[0;32m--> 466\u001b[0;31m         \u001b[0mparts\u001b[0m \u001b[0;34m=\u001b[0m \u001b[0;34m[\u001b[0m\u001b[0mself\u001b[0m\u001b[0;34m.\u001b[0m\u001b[0mrecv\u001b[0m\u001b[0;34m(\u001b[0m\u001b[0mflags\u001b[0m\u001b[0;34m,\u001b[0m \u001b[0mcopy\u001b[0m\u001b[0;34m=\u001b[0m\u001b[0mcopy\u001b[0m\u001b[0;34m,\u001b[0m \u001b[0mtrack\u001b[0m\u001b[0;34m=\u001b[0m\u001b[0mtrack\u001b[0m\u001b[0;34m)\u001b[0m\u001b[0;34m]\u001b[0m\u001b[0;34m\u001b[0m\u001b[0;34m\u001b[0m\u001b[0m\n\u001b[0m\u001b[1;32m    467\u001b[0m         \u001b[0;31m# have first part already, only loop while more to receive\u001b[0m\u001b[0;34m\u001b[0m\u001b[0;34m\u001b[0m\u001b[0;34m\u001b[0m\u001b[0m\n",
            "\u001b[0;32mzmq/backend/cython/socket.pyx\u001b[0m in \u001b[0;36mzmq.backend.cython.socket.Socket.recv\u001b[0;34m()\u001b[0m\n",
            "\u001b[0;32mzmq/backend/cython/socket.pyx\u001b[0m in \u001b[0;36mzmq.backend.cython.socket.Socket.recv\u001b[0;34m()\u001b[0m\n",
            "\u001b[0;32mzmq/backend/cython/socket.pyx\u001b[0m in \u001b[0;36mzmq.backend.cython.socket._recv_copy\u001b[0;34m()\u001b[0m\n",
            "\u001b[0;32m/usr/local/lib/python3.6/dist-packages/zmq/backend/cython/checkrc.pxd\u001b[0m in \u001b[0;36mzmq.backend.cython.checkrc._check_rc\u001b[0;34m()\u001b[0m\n",
            "\u001b[0;31mKeyboardInterrupt\u001b[0m: ",
            "\nDuring handling of the above exception, another exception occurred:\n",
            "\u001b[0;31mKeyboardInterrupt\u001b[0m                         Traceback (most recent call last)",
            "\u001b[0;32m<ipython-input-45-5e0c2e638486>\u001b[0m in \u001b[0;36m<module>\u001b[0;34m()\u001b[0m\n\u001b[1;32m      7\u001b[0m \u001b[0;31m# from user input - we still want validation from above!\u001b[0m\u001b[0;34m\u001b[0m\u001b[0;34m\u001b[0m\u001b[0;34m\u001b[0m\u001b[0m\n\u001b[1;32m      8\u001b[0m \u001b[0;34m\u001b[0m\u001b[0m\n\u001b[0;32m----> 9\u001b[0;31m \u001b[0mplayer\u001b[0m \u001b[0;34m=\u001b[0m \u001b[0minput\u001b[0m\u001b[0;34m(\u001b[0m\u001b[0;34mf'Player - Type either rock, paper, or scissors: '\u001b[0m\u001b[0;34m)\u001b[0m\u001b[0;34m\u001b[0m\u001b[0;34m\u001b[0m\u001b[0m\n\u001b[0m\u001b[1;32m     10\u001b[0m \u001b[0;34m\u001b[0m\u001b[0m\n\u001b[1;32m     11\u001b[0m \u001b[0;31m# Randomly generated against computer\u001b[0m\u001b[0;34m\u001b[0m\u001b[0;34m\u001b[0m\u001b[0;34m\u001b[0m\u001b[0m\n",
            "\u001b[0;32m/usr/local/lib/python3.6/dist-packages/ipykernel/kernelbase.py\u001b[0m in \u001b[0;36mraw_input\u001b[0;34m(self, prompt)\u001b[0m\n\u001b[1;32m    703\u001b[0m             \u001b[0mself\u001b[0m\u001b[0;34m.\u001b[0m\u001b[0m_parent_ident\u001b[0m\u001b[0;34m,\u001b[0m\u001b[0;34m\u001b[0m\u001b[0;34m\u001b[0m\u001b[0m\n\u001b[1;32m    704\u001b[0m             \u001b[0mself\u001b[0m\u001b[0;34m.\u001b[0m\u001b[0m_parent_header\u001b[0m\u001b[0;34m,\u001b[0m\u001b[0;34m\u001b[0m\u001b[0;34m\u001b[0m\u001b[0m\n\u001b[0;32m--> 705\u001b[0;31m             \u001b[0mpassword\u001b[0m\u001b[0;34m=\u001b[0m\u001b[0;32mFalse\u001b[0m\u001b[0;34m,\u001b[0m\u001b[0;34m\u001b[0m\u001b[0;34m\u001b[0m\u001b[0m\n\u001b[0m\u001b[1;32m    706\u001b[0m         )\n\u001b[1;32m    707\u001b[0m \u001b[0;34m\u001b[0m\u001b[0m\n",
            "\u001b[0;32m/usr/local/lib/python3.6/dist-packages/ipykernel/kernelbase.py\u001b[0m in \u001b[0;36m_input_request\u001b[0;34m(self, prompt, ident, parent, password)\u001b[0m\n\u001b[1;32m    733\u001b[0m             \u001b[0;32mexcept\u001b[0m \u001b[0mKeyboardInterrupt\u001b[0m\u001b[0;34m:\u001b[0m\u001b[0;34m\u001b[0m\u001b[0;34m\u001b[0m\u001b[0m\n\u001b[1;32m    734\u001b[0m                 \u001b[0;31m# re-raise KeyboardInterrupt, to truncate traceback\u001b[0m\u001b[0;34m\u001b[0m\u001b[0;34m\u001b[0m\u001b[0;34m\u001b[0m\u001b[0m\n\u001b[0;32m--> 735\u001b[0;31m                 \u001b[0;32mraise\u001b[0m \u001b[0mKeyboardInterrupt\u001b[0m\u001b[0;34m\u001b[0m\u001b[0;34m\u001b[0m\u001b[0m\n\u001b[0m\u001b[1;32m    736\u001b[0m             \u001b[0;32melse\u001b[0m\u001b[0;34m:\u001b[0m\u001b[0;34m\u001b[0m\u001b[0;34m\u001b[0m\u001b[0m\n\u001b[1;32m    737\u001b[0m                 \u001b[0;32mbreak\u001b[0m\u001b[0;34m\u001b[0m\u001b[0;34m\u001b[0m\u001b[0m\n",
            "\u001b[0;31mKeyboardInterrupt\u001b[0m: "
          ]
        }
      ]
    }
  ]
}