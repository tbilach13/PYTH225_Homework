{
  "nbformat": 4,
  "nbformat_minor": 0,
  "metadata": {
    "colab": {
      "name": "PYTH225_Bilach_basic_data_types_psets.ipynb",
      "provenance": [],
      "collapsed_sections": [
        "poqjlnEOVrWh"
      ],
      "include_colab_link": true
    },
    "kernelspec": {
      "name": "python3",
      "display_name": "Python 3"
    }
  },
  "cells": [
    {
      "cell_type": "markdown",
      "metadata": {
        "id": "view-in-github",
        "colab_type": "text"
      },
      "source": [
        "<a href=\"https://colab.research.google.com/github/tbilach13/PYTH225_Homework/blob/master/PYTH225_Bilach_basic_data_types_psets.ipynb\" target=\"_parent\"><img src=\"https://colab.research.google.com/assets/colab-badge.svg\" alt=\"Open In Colab\"/></a>"
      ]
    },
    {
      "cell_type": "markdown",
      "metadata": {
        "id": "hFmxhgDQVrV8",
        "colab_type": "text"
      },
      "source": [
        "#  BASIC DATA TYPES\n",
        "\n"
      ]
    },
    {
      "cell_type": "markdown",
      "metadata": {
        "id": "uayAR97cWGX1",
        "colab_type": "text"
      },
      "source": [
        "## EASY"
      ]
    },
    {
      "cell_type": "markdown",
      "metadata": {
        "id": "CXt8F7evWHum",
        "colab_type": "text"
      },
      "source": [
        "### P1.PY"
      ]
    },
    {
      "cell_type": "code",
      "metadata": {
        "id": "gYyR5LKAVrWA",
        "colab_type": "code",
        "colab": {}
      },
      "source": [
        "\"\"\"\n",
        "Placeholders\n",
        "\"\"\"\n",
        "\n",
        "# You're writing a program, and you don't know what your starting value for your 'initial' variable is yet. \n",
        "# The program won't run if you leave it blank, \n",
        "# but you don't want to forget you need it! Make a workaround.\n",
        "\n",
        "var = None\n",
        "print(var)"
      ],
      "execution_count": 0,
      "outputs": []
    },
    {
      "cell_type": "markdown",
      "metadata": {
        "id": "ujd4_d5VVrWD",
        "colab_type": "text"
      },
      "source": [
        "\n",
        "\n",
        "### P2.PY\n",
        "\n",
        "\n"
      ]
    },
    {
      "cell_type": "code",
      "metadata": {
        "id": "9p_mg-MjVrWE",
        "colab_type": "code",
        "outputId": "6b5d2e2d-04c0-44d5-9165-2475ad90f2db",
        "colab": {
          "base_uri": "https://localhost:8080/",
          "height": 51
        }
      },
      "source": [
        "\"\"\"\n",
        "Basic Variables\n",
        "\"\"\"\n",
        "\n",
        "# Create a variable that represents your favorite number, \n",
        "# and add a note to remind yourself what this variable represents. \n",
        "# Now print it out without re-typing the number.\n",
        "\n",
        "fav_num = 13  # This is my favority number\n",
        "print(fav_num)\n",
        "\n",
        "# Create another variable that represents your favorite color, \n",
        "# and do the same steps as above.\n",
        "\n",
        "fav_color = \"black\"  # This is my favority color\n",
        "print(fav_color)"
      ],
      "execution_count": 0,
      "outputs": [
        {
          "output_type": "stream",
          "text": [
            "13\n",
            "black\n"
          ],
          "name": "stdout"
        }
      ]
    },
    {
      "cell_type": "markdown",
      "metadata": {
        "id": "VbaMGAAYVrWH",
        "colab_type": "text"
      },
      "source": [
        "\n",
        "\n",
        "### P3.PY\n",
        "\n",
        "\n"
      ]
    },
    {
      "cell_type": "code",
      "metadata": {
        "id": "2i4mFvLGVrWI",
        "colab_type": "code",
        "outputId": "b957f5eb-55dd-4992-90b7-c29a22596a5e",
        "colab": {
          "base_uri": "https://localhost:8080/",
          "height": 221
        }
      },
      "source": [
        "\"\"\"\n",
        "String Formatting\n",
        "\"\"\"\n",
        "\n",
        "# Create a variable that contains the first 4 lines of lyrics from your favorite song. \n",
        "# Add a comment that includes the song title and artist **each on their own line**! \n",
        "# Now print out this variable.\n",
        "\n",
        "# Johnny Cash\n",
        "# The One On The Right Is On The Left\n",
        "\n",
        "lyrics = \"\"\"\n",
        "Well, the one on the right was on the left\n",
        "And the one in the middle was on the right\n",
        "And the one on the left was in the middle\n",
        "And the guy in the rear burned his driver's license.\n",
        "\"\"\"\n",
        "print(lyrics)\n",
        "\n",
        "# 99 Bottles of Beer on the Wall\n",
        "\n",
        "num_bottles = 99 \n",
        "\n",
        "lyrics_99 = f\"\"\"\n",
        "{num_bottles} bottles of beer on the wall,\n",
        "{num_bottles} bottes of beer,\n",
        "take one down, pass it around,\n",
        "{num_bottles - 1} bottles of beer on the wall.\n",
        "\"\"\"\n",
        "print(lyrics_99)\n"
      ],
      "execution_count": 0,
      "outputs": [
        {
          "output_type": "stream",
          "text": [
            "\n",
            "Well, the one on the right was on the left\n",
            "And the one in the middle was on the right\n",
            "And the one on the left was in the middle\n",
            "And the guy in the rear burned his driver's license.\n",
            "\n",
            "\n",
            "99 bottles of beer on the wall,\n",
            "99 bottes of beer,\n",
            "take one down, pass it around,\n",
            "98 bottles of beer on the wall.\n",
            "\n"
          ],
          "name": "stdout"
        }
      ]
    },
    {
      "cell_type": "markdown",
      "metadata": {
        "id": "poqjlnEOVrWh",
        "colab_type": "text"
      },
      "source": [
        "## OPERATORS\n",
        "\n",
        "\n",
        "\n"
      ]
    },
    {
      "cell_type": "markdown",
      "metadata": {
        "id": "3j0bS-HcWNLi",
        "colab_type": "text"
      },
      "source": [
        "### P1.PY"
      ]
    },
    {
      "cell_type": "code",
      "metadata": {
        "id": "poP19mJxVrWi",
        "colab_type": "code",
        "colab": {}
      },
      "source": [
        "\"\"\"\n",
        "Game Show Score\n",
        "\"\"\"\n",
        "\n",
        "# Imagine the var below represents the latest score of a competitor on a game show. \n",
        "# As this person plays, you need to update their score to reflect gains and losses in points. \n",
        "# Each math operation below dictates the change in the \n",
        "# competitor's score to be made after each of his or her actions.\n",
        "\n",
        "# Complete the below math operations and print the results to show the changes in the competitor's score throughout the game.\n",
        "\n",
        "latest_score = 100\n",
        "print(latest_score)\n",
        "\n",
        "# Add 50\n",
        "\n",
        "add_50 = latest_score + 50\n",
        "print(add_50)\n",
        "\n",
        "# Subtract 90\n",
        "\n",
        "sub_90 = add_50 - 90\n",
        "print(sub_90)\n",
        "\n",
        "# Multiply 10\n",
        "\n",
        "mult_10 = sub_90 * 10\n",
        "print(mult_10)\n",
        "\n",
        "# Divide 150\n",
        "\n",
        "div_150 = mult_10 / 150\n",
        "print(div_150)\n",
        "\n",
        "# Modulus 3\n",
        "\n",
        "mod_3 = div_150 % 3\n",
        "print(mod_3) # 4 mod 3 results in a remainder of 1"
      ],
      "execution_count": 0,
      "outputs": []
    },
    {
      "cell_type": "markdown",
      "metadata": {
        "id": "WAYZJHHgVrWk",
        "colab_type": "text"
      },
      "source": [
        "\n",
        "\n",
        "### P2.PY\n",
        "\n",
        "\n"
      ]
    },
    {
      "cell_type": "code",
      "metadata": {
        "id": "P067XIZ8VrWl",
        "colab_type": "code",
        "colab": {}
      },
      "source": [
        "\"\"\"\n",
        "String Operators\n",
        "\"\"\"\n",
        "\n",
        "# Create two variables, each of which is half of a compound sentence. \n",
        "## Example compound sentence: \"I'll go to the beach today, and I'll go snorkeling.\" \n",
        "\n",
        "first_half = \"I should be working out right now\"\n",
        "second_half = \"but, I'd rather be programming\""
      ],
      "execution_count": 0,
      "outputs": []
    },
    {
      "cell_type": "markdown",
      "metadata": {
        "id": "TqqaKHjuVrWn",
        "colab_type": "text"
      },
      "source": [
        "\n",
        "\n",
        "### P3.PY\n",
        "\n",
        "\n"
      ]
    },
    {
      "cell_type": "code",
      "metadata": {
        "id": "H7kysyPYVrWo",
        "colab_type": "code",
        "outputId": "ddf25274-d216-4785-e8f4-d2f724d42f59",
        "colab": {
          "base_uri": "https://localhost:8080/",
          "height": 85
        }
      },
      "source": [
        "\"\"\"\n",
        "Addition I - Numbers & Strings\n",
        "\"\"\"\n",
        "\n",
        "# Add the below sets of variables together without causing any Type Errors. \n",
        "\n",
        "# A)\n",
        "a = 0\n",
        "b = 2\n",
        "\n",
        "print(a + b)\n",
        "\n",
        "# B)\n",
        "c = '0'\n",
        "d = '2'\n",
        "\n",
        "print(c + d)\n",
        "\n",
        "# C)\n",
        "e = '0'\n",
        "f = 2\n",
        "\n",
        "print(int(e) + f)\n",
        "\n",
        "# or,\n",
        "\n",
        "print(e + str(f))"
      ],
      "execution_count": 0,
      "outputs": [
        {
          "output_type": "stream",
          "text": [
            "2\n",
            "02\n",
            "2\n",
            "02\n"
          ],
          "name": "stdout"
        }
      ]
    },
    {
      "cell_type": "markdown",
      "metadata": {
        "id": "T4rtuQ1CVrWr",
        "colab_type": "text"
      },
      "source": [
        "\n",
        "\n",
        "### P4.PY\n",
        "\n",
        "\n"
      ]
    },
    {
      "cell_type": "code",
      "metadata": {
        "id": "eCkVtKI8VrWs",
        "colab_type": "code",
        "colab": {}
      },
      "source": [
        "\"\"\"\n",
        "Addition II - Booleans\n",
        "\"\"\"\n",
        "\n",
        "# Add the below sets of variables together.\n",
        "\n",
        "# A)\n",
        "a = True\n",
        "b = True\n",
        "\n",
        "print(a + b)  #  1 + 1\n",
        "\n",
        "# B)\n",
        "c = False\n",
        "d = False\n",
        "\n",
        "print(c + d) # 0 + 0\n",
        "\n",
        "# C)\n",
        "e = True\n",
        "f = False\n",
        "\n",
        "print(e + f) # 1 + 0"
      ],
      "execution_count": 0,
      "outputs": []
    },
    {
      "cell_type": "markdown",
      "metadata": {
        "id": "0o8YPHxoVrWL",
        "colab_type": "text"
      },
      "source": [
        "## TYPECASTING\n",
        "\n"
      ]
    },
    {
      "cell_type": "markdown",
      "metadata": {
        "id": "XlNf2YptWKVu",
        "colab_type": "text"
      },
      "source": [
        "### P1.PY"
      ]
    },
    {
      "cell_type": "code",
      "metadata": {
        "id": "LDgWvrWzVrWM",
        "colab_type": "code",
        "colab": {}
      },
      "source": [
        "\"\"\"\n",
        "Typcasting w. Integers & Floats\n",
        "\"\"\"\n",
        "\n",
        "# Convert these numbers into floats and back. Print out each result as well as its data type.\n",
        "\n",
        "five = 5\n",
        "\n",
        "five = float(five)\n",
        "print(five)\n",
        "print(type(five))\n",
        "\n",
        "five = int(five)\n",
        "print(five)\n",
        "print(type(five))\n",
        "\n",
        "zero = 0\n",
        "\n",
        "zero = float(zero)\n",
        "print(zero)\n",
        "print(type(zero))\n",
        "\n",
        "zero = int(zero)\n",
        "print(zero)\n",
        "print(type(zero))\n",
        "\n",
        "neg_8 = -8\n",
        "\n",
        "neg_8 = float(neg_8)\n",
        "print(neg_8)\n",
        "print(type(neg_8))\n",
        "\n",
        "neg_8 = int(neg_8) \n",
        "print(neg_8)\n",
        "print(type(neg_8))\n",
        "\n",
        "neg_22 = -22\n",
        "\n",
        "neg_22 = float(neg_22)\n",
        "print(neg_22)\n",
        "print(type(neg_22))\n",
        "\n",
        "neg_22 = int(neg_22)\n",
        "print(neg_22)\n",
        "print(type(neg_22))"
      ],
      "execution_count": 0,
      "outputs": []
    },
    {
      "cell_type": "markdown",
      "metadata": {
        "id": "HWOwfU00VrWS",
        "colab_type": "text"
      },
      "source": [
        "\n",
        "\n",
        "### P2.PY\n",
        "\n",
        "\n"
      ]
    },
    {
      "cell_type": "code",
      "metadata": {
        "id": "_5-k5J4mVrWT",
        "colab_type": "code",
        "colab": {}
      },
      "source": [
        "\"\"\"\n",
        "Typcasting w. Strings\n",
        "\"\"\"\n",
        "\n",
        "# Convert these variables into strings and then back to their original data types. \n",
        "# Print out each result as well as its data type. What do you notice about the last one?\n",
        "\n",
        "five = 5\n",
        "\n",
        "five = str(five)\n",
        "print(five)\n",
        "print(type(five))\n",
        "\n",
        "five = int(five)\n",
        "print(five)\n",
        "print(type(five))\n",
        "\n",
        "zero = 0\n",
        "\n",
        "zero = str(zero)\n",
        "print(zero)\n",
        "print(type(zero))\n",
        "\n",
        "zero = int(0)\n",
        "print(zero)\n",
        "print(type(zero))\n",
        "\n",
        "neg_8 = -8\n",
        "\n",
        "neg_8 = str(neg_8)\n",
        "print(neg_8)\n",
        "print(type(neg_8))\n",
        "\n",
        "neg_8 = int(neg_8)\n",
        "print(neg_8)\n",
        "print(type(neg_8))\n",
        "\n",
        "T = True\n",
        "\n",
        "T = str(True)\n",
        "print(T)\n",
        "print(type(T))\n",
        "\n",
        "T = bool(T)\n",
        "print(T)\n",
        "print(type(T))\n",
        "\n",
        "F = False\n",
        "\n",
        "F = str(F)\n",
        "print(F)\n",
        "print(type(F))\n",
        "\n",
        "F = bool(F)\n",
        "print(F)\n",
        "print(type(F))"
      ],
      "execution_count": 0,
      "outputs": []
    },
    {
      "cell_type": "markdown",
      "metadata": {
        "id": "FO_LansxVrWV",
        "colab_type": "text"
      },
      "source": [
        "\n",
        "\n",
        "### P3.PY\n",
        "\n",
        "\n"
      ]
    },
    {
      "cell_type": "code",
      "metadata": {
        "id": "bSVcghffVrWW",
        "colab_type": "code",
        "colab": {}
      },
      "source": [
        "\"\"\"\n",
        "Booleans I - Typecasting w. Numbers\n",
        "\"\"\"\n",
        "\n",
        "# A) Use typecasting to turn these variables into boolean values. \n",
        "# Print the result and the datatype of the result. \n",
        "\n",
        "one = 1\n",
        "zero = 0\n",
        "\n",
        "one_bool = bool(one)\n",
        "print(one_bool)\n",
        "print(type(one_bool))\n",
        "\n",
        "zero_bool = bool(zero)\n",
        "print(zero_bool)\n",
        "print(type(zero_bool))\n",
        "\n",
        "# B) Use typecasting to turn the resultant variables from part A into floats. \n",
        "# Print the result and the datatype of the result.\n",
        "\n",
        "one_float = float(one_bool)\n",
        "print(one_float)\n",
        "print(type(one_float))\n",
        "\n",
        "zero_float = float(zero_bool)\n",
        "print(zero_float)\n",
        "print(type(zero_float))\n",
        "\n",
        "# C) Use typecasting to turn the resultant variables from part B back into booleans. \n",
        "# Print the result and the datatype of the result.\n",
        "\n",
        "one_bool = bool(one_float)\n",
        "print(one_bool)\n",
        "print(type(one_bool))\n",
        "\n",
        "zero_bool = bool(zero_float)\n",
        "print(zero_bool)\n",
        "print(type(zero_bool))\n",
        "\n",
        "# C) Use typecasting to turn the resultant variables from part C into integers.\n",
        "# Print the result and the datatype of the result.\n",
        "\n",
        "one_int = int(one_bool)\n",
        "print(one_int)\n",
        "print(type(one_int))\n",
        "\n",
        "zero_int = int(zero_bool)\n",
        "print(zero_int)\n",
        "print(type(zero_int))\n",
        "\n",
        "# E) Use typecasting to turn the variable below into a boolean value. \n",
        "# Print the result and the datatype of the result. \n",
        "\n",
        "ten = 10\n",
        "\n",
        "ten_bool = bool(ten)\n",
        "print(ten_bool)\n",
        "print(type(ten_bool))"
      ],
      "execution_count": 0,
      "outputs": []
    },
    {
      "cell_type": "markdown",
      "metadata": {
        "id": "Q7lEbfSQVrWc",
        "colab_type": "text"
      },
      "source": [
        "\n",
        "\n",
        "### P4.PY\n",
        "\n",
        "\n"
      ]
    },
    {
      "cell_type": "code",
      "metadata": {
        "id": "YFLt2TDXVrWf",
        "colab_type": "code",
        "colab": {}
      },
      "source": [
        "\"\"\"\n",
        "Booleans II - Typecasting w. Strings\n",
        "\"\"\"\n",
        "\n",
        "# A) Use typecasting to turn these variables into boolean values. \n",
        "# Print the result and the datatype of the result. \n",
        "\n",
        "one = 1\n",
        "\n",
        "one_bool = bool(one)\n",
        "print(one_bool)\n",
        "print(type(one_bool))\n",
        "\n",
        "zero = 0\n",
        "\n",
        "zero_bool = bool(zero)\n",
        "print(zero_bool)\n",
        "print(type(zero_bool))\n",
        "\n",
        "T = True\n",
        "\n",
        "T_bool = bool(T)\n",
        "print(T_bool)\n",
        "print(type(T_bool)) # This was already a boolean\n",
        "\n",
        "F = False\n",
        "\n",
        "F_bool = bool(F)\n",
        "print(F_bool)\n",
        "print(type(F_bool)) # This was already a boolean\n",
        "\n",
        "\n",
        "# B) Use typecasting to turn the latest values for variables 'one' and 'zero' back into integers. \n",
        "# Print the result and the datatype of the result.\n",
        "\n",
        "one_int = int(one_bool)\n",
        "print(one_int)\n",
        "print(type(one_int))\n",
        "\n",
        "zero_int = int(zero_bool)\n",
        "print(zero_int)\n",
        "print(type(zero_int))\n",
        "\n",
        "# C) Use typecasting to turn the latest values for variables 'T' and 'F' back into boolean values. \n",
        "#Print the result and the datatype of the result.\n",
        "\n",
        "# T and F are already booleans\n",
        "# This section asked to turn T and F into booleans\n",
        "# Is this wrong?"
      ],
      "execution_count": 0,
      "outputs": []
    },
    {
      "cell_type": "markdown",
      "metadata": {
        "id": "pRORE6K8VrWy",
        "colab_type": "text"
      },
      "source": [
        "## SHOPPING_LIST\n",
        "\n",
        "\n"
      ]
    },
    {
      "cell_type": "markdown",
      "metadata": {
        "id": "sX291wpjWQea",
        "colab_type": "text"
      },
      "source": [
        "### P1.PY"
      ]
    },
    {
      "cell_type": "code",
      "metadata": {
        "id": "kH5HZBmiVrWy",
        "colab_type": "code",
        "colab": {}
      },
      "source": [
        "\"\"\"\n",
        "Shopping List Calculator I\n",
        "\"\"\"\n",
        "\n",
        "# Create five variables,\n",
        "# set them to strings that represent 5 common shopping list items\n",
        "\n",
        "item_name_1 = str(\"Toilet Paper\")\n",
        "item_name_2 = str(\"Tooth Brush\")\n",
        "item_name_3 = str(\"Milk\")\n",
        "item_name_4 = str(\"Bread\")\n",
        "item_name_5 = str(\"Eggs\")\n",
        "\n",
        "# Create five more variables,\n",
        "# set them to floats that represent the prices of each of the items above\n",
        "\n",
        "item_price_1 = float(.89)\n",
        "item_price_2 = float(2.25)\n",
        "item_price_3 = float(3.39)\n",
        "item_price_4 = float(1.59)\n",
        "item_price_5 = float(1.99)\n",
        "\n",
        "# Create five more variables,\n",
        "# set them to ints that represent the quantity of each of the items above\n",
        "item_quant_1 = 3\n",
        "item_quant_2 = 1\n",
        "item_quant_3 = 1\n",
        "item_quant_4 = 6\n",
        "item_quant_5 = 2\n",
        "\n",
        "# Print to the console the name and price of each item defined above as follows:\n",
        "# 1 Coco Puffs = $8.95.\n",
        "# where:\n",
        "# 1 would be item_quant_1\n",
        "# Coco Puffs would be item_name_1\n",
        "# 8.95 would be item_price_1\n",
        "\n",
        "print(f'{item_quant_1} {item_name_1} = ${item_quant_1*item_price_1}')\n",
        "print(f'{item_quant_2} {item_name_2} = ${item_quant_2*item_price_2}')\n",
        "print(f'{item_quant_3} {item_name_3} = ${item_quant_3*item_price_3}')\n",
        "print(f'{item_quant_4} {item_name_4} = ${item_quant_4*item_price_4}')\n",
        "print(f'{item_quant_5} {item_name_5} = ${item_quant_5*item_price_5}')"
      ],
      "execution_count": 0,
      "outputs": []
    },
    {
      "cell_type": "markdown",
      "metadata": {
        "id": "tr50TO3xVrW1",
        "colab_type": "text"
      },
      "source": [
        "\n",
        "\n",
        "### P2.PY\n",
        "\n",
        "\n"
      ]
    },
    {
      "cell_type": "code",
      "metadata": {
        "id": "_6WnvYbpVrW2",
        "colab_type": "code",
        "colab": {}
      },
      "source": [
        "\"\"\"\n",
        "Shopping List Calculator II\n",
        "\"\"\"\n",
        "\n",
        "# Rewrite p1, but this time use the input() command to solicit user input for name, price, quantity. Here's how it works:\n",
        "\n",
        "# item_name_1 = input('Name your first item: ') \n",
        "# ^ this will ask user to input value of item_name_1\n",
        "\n",
        "# use input() function and ask user to name items\n",
        "item_name_1 = input('Please name your first item here: ')\n",
        "item_name_2 = input('Please name your second item here: ')\n",
        "item_name_3 = input('Please name your third item here: ')\n",
        "item_name_4 = input('Please name your fourth item here: ')\n",
        "item_name_5 = input('Please name your fifth item here: ')\n",
        "\n",
        "# use input() function and ask user to name prices\n",
        "item_price_1 = float(input('Please list the price of the first item: '))\n",
        "item_price_2 = float(input('Please list the price of the second item: '))\n",
        "item_price_3 = float(input('Please list the price of the third item: '))\n",
        "item_price_4 = float(input('Please list the price of the fourth item: '))\n",
        "item_price_5 = float(input('Please list the price of the fifth item: '))\n",
        "\n",
        "# use input() function and ask user to name quants\n",
        "item_quant_1 = int(input('How many item(s) would you like of item 1: '))\n",
        "item_quant_2 = int(input('How many item(s) would you like of item 2: '))\n",
        "item_quant_3 = int(input('How many item(s) would you like of item 3: '))\n",
        "item_quant_4 = int(input('How many item(s) would you like of item 4: '))\n",
        "item_quant_5 = int(input('How many item(s) would you like of item 5: '))\n",
        "\n",
        "# Print to the console the name and price of each item defined above as follows:\n",
        "# 1 Coco Puffs = $8.95.\n",
        "# where:\n",
        "# 1 would be item_quant_1\n",
        "# Coco Puffs would be item_name_1\n",
        "# 8.95 would be item_price_1\n",
        "\n",
        "# JUST REMEMBER: now this will be defined by the user!!\n",
        "print(f'{item_quant_1} {item_name_1} = ${item_quant_1*item_price_1}')\n",
        "print(f'{item_quant_2} {item_name_2} = ${item_quant_2*item_price_2}')\n",
        "print(f'{item_quant_3} {item_name_3} = ${item_quant_3*item_price_3}')\n",
        "print(f'{item_quant_4} {item_name_4} = ${item_quant_4*item_price_4}')\n",
        "print(f'{item_quant_5} {item_name_5} = ${item_quant_5*item_price_5}')"
      ],
      "execution_count": 0,
      "outputs": []
    }
  ]
}