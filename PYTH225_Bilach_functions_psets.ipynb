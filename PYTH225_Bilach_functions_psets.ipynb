{
  "nbformat": 4,
  "nbformat_minor": 0,
  "metadata": {
    "colab": {
      "name": "PYTH225_Bilach_functions_psets.ipynb",
      "provenance": [],
      "collapsed_sections": [],
      "include_colab_link": true
    },
    "kernelspec": {
      "name": "python3",
      "display_name": "Python 3"
    }
  },
  "cells": [
    {
      "cell_type": "markdown",
      "metadata": {
        "id": "view-in-github",
        "colab_type": "text"
      },
      "source": [
        "<a href=\"https://colab.research.google.com/github/tbilach13/PYTH225_Homework/blob/master/PYTH225_Bilach_functions_psets.ipynb\" target=\"_parent\"><img src=\"https://colab.research.google.com/assets/colab-badge.svg\" alt=\"Open In Colab\"/></a>"
      ]
    },
    {
      "cell_type": "markdown",
      "metadata": {
        "id": "43e1PgRyNeyZ",
        "colab_type": "text"
      },
      "source": [
        "<a href=\"https://colab.research.google.com/github/mottaquikarim/PYTH2/blob/master/src/PSETS/nb/classes_psets.ipynb\" target=\"_parent\"><img src=\"https://colab.research.google.com/assets/colab-badge.svg\" alt=\"Open In Colab\"/></a>"
      ]
    },
    {
      "cell_type": "markdown",
      "metadata": {
        "id": "_IvyUuPjNeyb",
        "colab_type": "text"
      },
      "source": [
        "#  FUNCTIONS"
      ]
    },
    {
      "cell_type": "markdown",
      "metadata": {
        "id": "RGgp__RZNvUy",
        "colab_type": "text"
      },
      "source": [
        "## BASIC FUNCTION OPS"
      ]
    },
    {
      "cell_type": "markdown",
      "metadata": {
        "id": "yEdzSlN8NwyE",
        "colab_type": "text"
      },
      "source": [
        "### P1.PY"
      ]
    },
    {
      "cell_type": "code",
      "metadata": {
        "id": "XixCtMjENeye",
        "colab_type": "code",
        "colab": {}
      },
      "source": [
        "\"\"\"\n",
        "Function Basics I - No Input\n",
        "\"\"\"\n",
        "\n",
        "# Write a and call a function called \"rand_list\" \n",
        "# that generates a list of 5 random numbers between 1 and 500. \n",
        "# Print out that list.\n",
        "\n",
        "import random\n",
        "\n",
        "def rand_list():\n",
        "  list_holder = []\n",
        "  for i in range(1, 6):\n",
        "    random_numbers = random.randint(1, 500)\n",
        "    list_holder.append(random_numbers)\n",
        "  return f'Five random numbers between 1 and 500 in a list: {list_holder}.'\n",
        "\n",
        "x = rand_list()\n",
        "print(x)"
      ],
      "execution_count": 0,
      "outputs": []
    },
    {
      "cell_type": "markdown",
      "metadata": {
        "id": "JHygF2-tNeyk",
        "colab_type": "text"
      },
      "source": [
        "### P2.PY\n"
      ]
    },
    {
      "cell_type": "code",
      "metadata": {
        "id": "a08oiPvoNeyl",
        "colab_type": "code",
        "outputId": "d055aea1-ab4c-4ddb-b013-916e6aee6fa1",
        "colab": {
          "base_uri": "https://localhost:8080/",
          "height": 34
        }
      },
      "source": [
        "\"\"\"\n",
        "Function Basics II - Arguments\n",
        "\"\"\"\n",
        "\n",
        "# Write a function called \"names\" \n",
        "# that separately intakes a person's first name and a person's last name.\n",
        "# It should concatenate the names and return the person's full name.\n",
        "\n",
        "def names(first, last) -> str:\n",
        "  full_name = f'Person\\'s full name: {first} {last}.'\n",
        "  return full_name\n",
        "\n",
        "output = names(first = 'Thomas', last = 'Bilach')\n",
        "print(output)"
      ],
      "execution_count": 0,
      "outputs": [
        {
          "output_type": "stream",
          "text": [
            "Person's full name: Thomas Bilach.\n"
          ],
          "name": "stdout"
        }
      ]
    },
    {
      "cell_type": "markdown",
      "metadata": {
        "id": "tFsdo4A6Neyn",
        "colab_type": "text"
      },
      "source": [
        "\n",
        "### P3.PY\n"
      ]
    },
    {
      "cell_type": "code",
      "metadata": {
        "id": "DBA7Joa8Neyp",
        "colab_type": "code",
        "outputId": "131c0cb0-062d-4f39-ce17-c50b2bd188eb",
        "colab": {
          "base_uri": "https://localhost:8080/",
          "height": 50
        }
      },
      "source": [
        "\"\"\"\n",
        "Function Basics III - Default Arguments\n",
        "\"\"\"\n",
        "\n",
        "# Now write a function called \"fave_colors\" \n",
        "# that separately intakes a person's first name, a person's last name, \n",
        "# and **optionally** their favorite color.\n",
        "\n",
        "# The function should create and return a dict with the full name as a key \n",
        "# and the favorite color as the value. \n",
        "# If the person does not enter a favorite color, \n",
        "# you should assume they have no favorite color and assign theirs to None.\n",
        "# Try both use cases.\n",
        "\n",
        "def fave_color(first, last, color = None) -> str:\n",
        "  dict_name = {}\n",
        "\n",
        "  full_name = f'{first} {last}'\n",
        "  dict_name.update({full_name: None})\n",
        "\n",
        "  if color is None:\n",
        "    dict_name[full_name] = None\n",
        "    \n",
        "  elif color is not None:\n",
        "    dict_name[full_name] = color\n",
        "\n",
        "  return dict_name\n",
        "\n",
        "x = fave_color(first = 'Thomas', last = 'Bilach', color = \"Red\")\n",
        "print(f'A dictionary is returned with a color as the value: {x}')\n",
        "\n",
        "y = fave_color(first = 'Thomas', last = 'Bilach')\n",
        "print(f'A dictionary is returned with None as the value: {y}')"
      ],
      "execution_count": 1,
      "outputs": [
        {
          "output_type": "stream",
          "text": [
            "A Dictionary is returned with a color as the value: {'Thomas Bilach': 'Red'}\n",
            "A Dictionary is returned with None as the value: {'Thomas Bilach': None}\n"
          ],
          "name": "stdout"
        }
      ]
    },
    {
      "cell_type": "markdown",
      "metadata": {
        "id": "cWqpS8KLNeyz",
        "colab_type": "text"
      },
      "source": [
        "\n",
        "### P4.PY\n"
      ]
    },
    {
      "cell_type": "code",
      "metadata": {
        "id": "WmATxpzvNey0",
        "colab_type": "code",
        "outputId": "3ebe666f-8c1f-4e60-f00f-47264d06bcfd",
        "colab": {
          "base_uri": "https://localhost:8080/",
          "height": 101
        }
      },
      "source": [
        "\"\"\"\n",
        "Function Basics IV - Multiple Return Values\n",
        "\"\"\"\n",
        "\n",
        "# Write a function called \"figures\" that takes any two numbers \n",
        "# and **individually** returns the following as integers:\n",
        "# their sum\n",
        "# their product\n",
        "# the quotient for num1 / num2\n",
        "\n",
        "\"\"\"Print each value out individually in this format:\n",
        "(using 12 and 3)\n",
        "sum: 15\n",
        "product: 36\n",
        "quotient: 4\n",
        "\"\"\"\n",
        "\n",
        "def figures(a, b) -> float:\n",
        "  s = a + b\n",
        "  p = a * b\n",
        "  q = a / b\n",
        "  return s, p, q\n",
        "\n",
        "figs = figures(a = 12, b = 3)\n",
        "print(f\"\"\"\n",
        "sum: {figs[0]}\n",
        "product: {figs[1]}\n",
        "quotient: {figs[2]}\n",
        "\"\"\")"
      ],
      "execution_count": 0,
      "outputs": [
        {
          "output_type": "stream",
          "text": [
            "\n",
            "sum: 15\n",
            "product: 36\n",
            "quotient: 4.0\n",
            "\n"
          ],
          "name": "stdout"
        }
      ]
    },
    {
      "cell_type": "markdown",
      "metadata": {
        "id": "pqxwEC16Ney2",
        "colab_type": "text"
      },
      "source": [
        "\n",
        "### P5.PY\n"
      ]
    },
    {
      "cell_type": "code",
      "metadata": {
        "id": "i_tVcZ1FNey3",
        "colab_type": "code",
        "colab": {}
      },
      "source": [
        "\"\"\"\n",
        "Function Basics V - Indeterminate Arguments\n",
        "\"\"\"\n",
        "\n",
        "# Write a and call a function called \"high_low\" that takes 3 numbers \n",
        "# and returns the highest and lowest ones.\n",
        "\n",
        "# APPROACH 1\n",
        "\n",
        "def high_low(a, b, c): # Asserts exactly three values\n",
        "  list1 = [a, b, c]\n",
        "  return max(list1), min(list1)\n",
        "\n",
        "saved_tuple = high_low(10, 9, 8)\n",
        "print(saved_typle)\n",
        "print(type(saved_tuple))"
      ],
      "execution_count": 0,
      "outputs": []
    },
    {
      "cell_type": "code",
      "metadata": {
        "id": "sVcic7efjspZ",
        "colab_type": "code",
        "colab": {}
      },
      "source": [
        "# APPROACH 2\n",
        "\n",
        "def high_low(x: list): # x is a list\n",
        "  high = max(x)\n",
        "  low = min(x)\n",
        "  return high, low # tuple is returned\n",
        "\n",
        "high_low([1, 3, 9])"
      ],
      "execution_count": 0,
      "outputs": []
    },
    {
      "cell_type": "code",
      "metadata": {
        "id": "hzBQUBeMkPLV",
        "colab_type": "code",
        "colab": {}
      },
      "source": [
        "# Approach 3\n",
        "\n",
        "def hi_lo(*args):\n",
        "  print(type(args), args)\n",
        "  return max(args), min(args)\n",
        "\n",
        "h, l = hi_lo(11, 2, 3, 4, 5, 2999)\n",
        "print(h, l)"
      ],
      "execution_count": 0,
      "outputs": []
    },
    {
      "cell_type": "markdown",
      "metadata": {
        "id": "1p9TsLXtNey5",
        "colab_type": "text"
      },
      "source": [
        "\n",
        "## DB_SEARCH\n"
      ]
    },
    {
      "cell_type": "markdown",
      "metadata": {
        "id": "W5DLuftkNyog",
        "colab_type": "text"
      },
      "source": [
        "### P1.PY"
      ]
    },
    {
      "cell_type": "code",
      "metadata": {
        "id": "WvU9x79ZNey6",
        "colab_type": "code",
        "outputId": "7c1acb21-7b61-4ab0-acbc-f11429c8cce1",
        "colab": {
          "base_uri": "https://localhost:8080/",
          "height": 34
        }
      },
      "source": [
        "\"\"\"\n",
        "GPA Calculator\n",
        "\"\"\"\n",
        "\n",
        "# Write a function called \"simple_gpa\" to find GPA when student enters a letter grade as a string. \n",
        "# Assign the result to a variable called \"gpa\".\n",
        "\n",
        "\"\"\"\n",
        "Use these conversions:\n",
        "A+ --> 4.0\n",
        "A --> 4.0\n",
        "A- --> 3.7\n",
        "B+ --> 3.3\n",
        "B --> 3.0\n",
        "B- --> 2.7\n",
        "C+ --> 2.3\n",
        "C --> 2.0\n",
        "C- --> 1.7\n",
        "D+ --> 1.3\n",
        "D --> 1.0\n",
        "D- --> 0.7\n",
        "F --> 0.0\n",
        "\"\"\"\n",
        "\n",
        "def simple_gpa(grade: str) -> float:\n",
        "  if len(grade) > 1:\n",
        "    print(\"Only one letter grade allowed!\")\n",
        "  if (grade == \"A+\" or grade == \"A\"):\n",
        "    gpa = 4.0\n",
        "  elif (grade == \"A-\"):\n",
        "    gpa = 3.7\n",
        "  elif (grade == \"B+\"):\n",
        "    gpa = 3.7\n",
        "  elif (grade == \"B-\"):\n",
        "    gpa = 3.0\n",
        "  elif (grade == \"C+\"):\n",
        "    gpa = 2.3\n",
        "  elif (grade == \"C\"):\n",
        "    gpa = 2.0\n",
        "  elif (grade == \"C-\"):\n",
        "    gpa = 1.7\n",
        "  elif (grade == \"D+\"):\n",
        "    gpa = 1.3\n",
        "  elif (grade == \"D\"):\n",
        "    gpa = 1.0\n",
        "  elif (grade == \"D-\"):\n",
        "    gpa = 0.7\n",
        "  elif (grade == \"F\"):\n",
        "    gpa = 0.0\n",
        "  return gpa, grade\n",
        "\n",
        "result = simple_gpa(grade = \"A\")\n",
        "print(result)"
      ],
      "execution_count": 0,
      "outputs": [
        {
          "output_type": "stream",
          "text": [
            "(4.0, 'A')\n"
          ],
          "name": "stdout"
        }
      ]
    },
    {
      "cell_type": "markdown",
      "metadata": {
        "id": "XJfdr65oNey8",
        "colab_type": "text"
      },
      "source": [
        "\n",
        "### P2.PY\n",
        "\n"
      ]
    },
    {
      "cell_type": "code",
      "metadata": {
        "id": "STG3hDMhNey9",
        "colab_type": "code",
        "colab": {
          "base_uri": "https://localhost:8080/",
          "height": 34
        },
        "outputId": "9259b288-8bcf-436c-eb64-a0ad6072f8a6"
      },
      "source": [
        "\"\"\"\n",
        "RGB to HEX\n",
        "\"\"\"\n",
        "\n",
        "# Write a function called \"rgb_hex\" that takes a parameter called \"color.\" \n",
        "# The function should be able to intake a color in rgb format \n",
        "# and return it in hex format as well as vice versa.\n",
        "# A sample of color conversions are below. \n",
        "# Write in logic so the function can interpret rgb \n",
        "# and hex colors entered in different formats \n",
        "# such as \"rgb_hex((255,255,255))\" or \"rgb_hex('ffffff')\".\n",
        "# Also make sure to account for someone inputting a color not in the database.\n",
        "\n",
        "color_conversions = {\n",
        "'#4286f4': 'rgb(66, 134, 244)',\n",
        "'#5905c6': 'rgb(89, 5, 198)',\n",
        "'#fce702': 'rgb(252, 231, 2)',\n",
        "'#ffffff': 'rgb(255, 255, 255)',\n",
        "'#000000': 'rgb(0, 0, 0)',\n",
        "'#0ac913': 'rgb(10, 201, 19)',\n",
        "'#65c672': 'rgb(101, 198, 114)',\n",
        "'#f8d6ff': 'rgb(248, 214, 255)',\n",
        "'#b70782': 'rgb(183, 7, 130)',\n",
        "'#001184': 'rgb(0, 17, 132)',\n",
        "'#495eed': 'rgb(73, 94, 237)',\n",
        "'#b7ffb8': 'rgb(183, 255, 184)',\n",
        "'#ffbf00': 'rgb(255, 191, 0)',\n",
        "'#7a020e': 'rgb(122, 2, 14)',\n",
        "'#ff5e6e': 'rgb(255, 94, 110)',\n",
        "'#22003d': 'rgb(34, 0, 61)'\n",
        "}\n",
        "\n",
        "def rgb_hex(hex_color: str) -> str:\n",
        "  if not isinstance(hex_color, str):\n",
        "    raise Exception(f\"hex_color {hex_color} must be string\")\n",
        "  if len(hex_color) == 6:\n",
        "    hex_color = \"#\" + hex_color\n",
        "  elif len(hex_color) < 6:\n",
        "    raise Exception(\"Invalid hex color length\")\n",
        "  \n",
        "  rgb_color = color_conversions[hex_color]\n",
        "  return rgb_color\n",
        "\n",
        "output = rgb_hex(hex_color = '#000000')\n",
        "print(output)"
      ],
      "execution_count": 2,
      "outputs": [
        {
          "output_type": "stream",
          "text": [
            "rgb(0, 0, 0)\n"
          ],
          "name": "stdout"
        }
      ]
    },
    {
      "cell_type": "markdown",
      "metadata": {
        "id": "AQVD0N7BNezC",
        "colab_type": "text"
      },
      "source": [
        "\n",
        "\n",
        "## MATH\n",
        "\n",
        "\n"
      ]
    },
    {
      "cell_type": "markdown",
      "metadata": {
        "id": "bmEK7PmRN1Fu",
        "colab_type": "text"
      },
      "source": [
        "### P1.PY"
      ]
    },
    {
      "cell_type": "code",
      "metadata": {
        "id": "oMKX0HrfNezD",
        "colab_type": "code",
        "colab": {}
      },
      "source": [
        "\"\"\"\n",
        "Simple Interest Calculator\n",
        "\"\"\"\n",
        "\n",
        "# Write a function called \"simple_interest\" \n",
        "# that will allow a user to find out how much \n",
        "# they will have in savings based on their current funds and an interest rate. \n",
        "# (Instead of collecting user input, \n",
        "# you can directly pass values of your choosing for the arguments.)\n",
        "\n",
        "# The formula for simple interest is...\n",
        "# A = P(1 + rt), where...\n",
        "# P = principal amount of money\n",
        "# r = interest rate\n",
        "# t = number of time periods the principal will earn interest\n",
        "\n",
        "def simple_interest(p, t, r) -> float:\n",
        "  A = p * (1 + r*t)\n",
        "  return A\n",
        "earnings = simple_interest(p = 1000, t = 2, r = .2)\n",
        "print(earnings)"
      ],
      "execution_count": 0,
      "outputs": []
    },
    {
      "cell_type": "markdown",
      "metadata": {
        "id": "7ScSNwjINezF",
        "colab_type": "text"
      },
      "source": [
        "\n",
        "\n",
        "### P2.PY\n",
        "\n",
        "\n"
      ]
    },
    {
      "cell_type": "code",
      "metadata": {
        "id": "YwFx8wHsNezG",
        "colab_type": "code",
        "outputId": "1117b3a4-f363-4815-86be-d7f8f93e8925",
        "colab": {
          "base_uri": "https://localhost:8080/",
          "height": 34
        }
      },
      "source": [
        "\"\"\"\n",
        "Permutations & Combinations\n",
        "\"\"\"\n",
        "\n",
        "# Create two functions:\n",
        "\t# One called \"perms\", which outputs the **number** of possible **permutations** of rolling two 6-sided dice and assign it to a variable called \"permutations\".\n",
        "\t# One called \"combs\", which outputs the **number** of possible **combinations** of rolling two 6-sided dice and assigns it to a variable called \"combinations\".\n",
        "\t# Hint: The formulas for these are below, where n is the number of possible outcomes for one trial and r is the number of outcomes you will pick at a time. \n",
        "\t# The contextual difference is that order matters for permutations, meaning the same two numbers in a different order count as two unique permutations. \n",
        "\t# For combinations, the order doesn't matter.\n",
        "\n",
        "# permutation formula = n! / (n-r)!\n",
        "# combination formula = n! / (n-r)!r!\n",
        "\n",
        "def perms(n, r):\n",
        "\tfac = 1\n",
        "\tn_minus_r = 1\n",
        "\n",
        "\tfor i in range(1, n + 1):\n",
        "\t\tfac = fac * i\n",
        "\tfor i in range(1, n - r):\n",
        " \t\tn_minus_r = n_minus_r * i\n",
        "\tpermutations = fac / n_minus_r\n",
        "\treturn permutations\n",
        "\n",
        "p = perms(n = 6, r = 2)\n",
        "print(p)"
      ],
      "execution_count": 0,
      "outputs": [
        {
          "output_type": "stream",
          "text": [
            "120.0\n"
          ],
          "name": "stdout"
        }
      ]
    },
    {
      "cell_type": "code",
      "metadata": {
        "id": "G3ybc-VvWdh7",
        "colab_type": "code",
        "outputId": "aa96af2d-bb30-470e-d132-2ef920cb614e",
        "colab": {
          "base_uri": "https://localhost:8080/",
          "height": 34
        }
      },
      "source": [
        "def combs(n, r):\n",
        "  n_fac = 1\n",
        "  n_minus_r = 1\n",
        "  r_fac = 1\n",
        "  \n",
        "  for i in range(1, n + 1):\n",
        "    n_fac = n_fac * i\n",
        "  for i in range(1, n - r):\n",
        " \t\tn_minus_r = n_minus_r * i\n",
        "  for i in range(1, r + 1):\n",
        "    r_fac = r_fac * i\n",
        "  combinations = n_fac / n_minus_r * r_fac\n",
        "  \n",
        "  return combinations\n",
        "\n",
        "c = combs(n = 6, r = 2)\n",
        "print(c)"
      ],
      "execution_count": 0,
      "outputs": [
        {
          "output_type": "stream",
          "text": [
            "240.0\n"
          ],
          "name": "stdout"
        }
      ]
    },
    {
      "cell_type": "markdown",
      "metadata": {
        "id": "7bTNjBy_NezI",
        "colab_type": "text"
      },
      "source": [
        "\n",
        "\n",
        "### P3.PY\n",
        "\n",
        "\n"
      ]
    },
    {
      "cell_type": "code",
      "metadata": {
        "id": "NC2JU5p1NezI",
        "colab_type": "code",
        "outputId": "17b0c7c6-7035-4614-b771-9cda63be035c",
        "colab": {
          "base_uri": "https://localhost:8080/",
          "height": 34
        }
      },
      "source": [
        "\"\"\"\n",
        "Multiples\n",
        "\"\"\"\n",
        "\n",
        "# Write a function called \"sum_multiples\" that take two numbers \n",
        "# and returns the sum of their multiples between 0 and some limit. \n",
        "# These three items should be generalized as parameters.\n",
        "\n",
        "def sum_multiples(x, y: int):\n",
        "  multiples_1 = []\n",
        "  multiples_2 = []\n",
        "\n",
        "  for i in range(1, x + 1):\n",
        "    if i % 2 == 0:\n",
        "      multiples_1.append(i)\n",
        "  for j in range(1, y + 1):\n",
        "    if j % 2 == 0:\n",
        "      multiples_2.append(j)\n",
        "\n",
        "  return sum(multiples_1 + multiples_2)\n",
        "\n",
        "output = sum_multiples(x = 4, y = 4)\n",
        "print(output)"
      ],
      "execution_count": 0,
      "outputs": [
        {
          "output_type": "stream",
          "text": [
            "12\n"
          ],
          "name": "stdout"
        }
      ]
    },
    {
      "cell_type": "markdown",
      "metadata": {
        "id": "ARbsmw_mNezL",
        "colab_type": "text"
      },
      "source": [
        "## DATA_MANIPULATION\n",
        "\n",
        "\n"
      ]
    },
    {
      "cell_type": "markdown",
      "metadata": {
        "id": "wTd0ZSSeN4Y8",
        "colab_type": "text"
      },
      "source": [
        "### P1.PY"
      ]
    },
    {
      "cell_type": "code",
      "metadata": {
        "id": "iUq-vFf2NezM",
        "colab_type": "code",
        "colab": {}
      },
      "source": [
        "\"\"\"\n",
        "File Organization\n",
        "\"\"\"\n",
        "\n",
        "# The dict \"files\" below contains file names \n",
        "# and the name of the person who owns each file. \n",
        "# Write and call a function to reorganize \"files\" \n",
        "# such that it contains each person's name and \n",
        "# the files he/she owns. Assign the resultant dict to a new dict called \"grouped_by_owner\". \n",
        "# Print out the key value pairs in this format - key: value.\n",
        "\n",
        "# Function name should be: group_by_owners\n",
        "# Dict of results should be named: files_by_owner\n",
        "\n",
        "files = {\n",
        "  'Input1.txt': 'Beau',\n",
        "  'Code1.py': 'Mischa',\n",
        "  'Output1.txt': 'Beau',\n",
        "  'Input2.txt': 'Beau',\n",
        "  'Code2.py': 'Mischa',\n",
        "  'Output2.txt': 'Beau',\n",
        "  'Input3.txt': 'Percy',\n",
        "  'Code3.py': 'Alejandra',\n",
        "  'Output3.txt': 'Percy'\n",
        "}\n",
        "\n",
        "# This didn't work though\n",
        "#names = [Beau, Mischa, Percy, Alejandra]\n",
        "\n",
        "#def group_by_owners() -> dict:\n",
        "#  file_grab = files[names]\n",
        "#  ordered = file_grab.sorted()\n",
        "#  files_grouped = set(ordered)\n",
        "#  return files_grouped\n",
        "#\n",
        "#print(group_by_owners(names))\n",
        "\n",
        "# See below for example\n",
        "# This didn't work though\n",
        "#names = ['Beau', 'Mischa', 'Percy', 'Alejandra']\n",
        "\n",
        "def group_by_owners(files) -> dict:\n",
        "  groups = {}\n",
        "  for key, value in files.items():\n",
        "    if value is not groups:\n",
        "      groups[key] = value\n",
        "  return groups\n",
        "\n",
        "  # create an empty dict, call it groups = {} check\n",
        "  # iterate through your dictionary (so for filename, owner in files.items()) check\n",
        "  # for each iteration, check to see if owner is in groups\n",
        "  # if not, create a key in groups for owner: groups[owner] = []\n",
        "  # then, just append the filename to the groups[owner]\n",
        "  \n",
        "#  return {\"Beau\": [\"Input1.txt\", \"Output1.txt\", \"Output2.txt\"]}\n",
        "\n",
        "output_dict = group_by_owners(files = files)\n",
        "print(output_dict)\n",
        "\n",
        "###\n",
        "\n",
        "# {\"Beau\": [\"Input1.txt\", \"Output1.txt\", \"Output2.txt\"], \"Mischa\": []}\n",
        "\n",
        "# 1. write out the function signature - inputs and outputs\n",
        "#       have a simple print and simple return that assert that your function\n",
        "#       processes input arguments and outputs a return statement\n",
        "# 2. write the logic for your function - keep it as simple as possible \n",
        "#       basically, don't error handle, just make the base case(s) work\n",
        "# 3. try to break it\n",
        "#       here, think about the edge cases, the exceptions, etc"
      ],
      "execution_count": 0,
      "outputs": []
    },
    {
      "cell_type": "markdown",
      "metadata": {
        "id": "-7KFDG5lNezO",
        "colab_type": "text"
      },
      "source": [
        "\n",
        "\n",
        "### P2.PY\n",
        "\n",
        "\n"
      ]
    },
    {
      "cell_type": "code",
      "metadata": {
        "id": "S5e9s-njNezP",
        "colab_type": "code",
        "colab": {
          "base_uri": "https://localhost:8080/",
          "height": 54
        },
        "outputId": "b3f7da1f-db30-4e7c-bd59-0ad976b2fbdf"
      },
      "source": [
        "\"\"\"\n",
        "Clean Pairs\n",
        "\"\"\"\n",
        "\n",
        "# Below is a list of common food pairings. \n",
        "# Write a function called \"cleaner\" that cleans the data \n",
        "# such that each list item is a tuple (e.g. ('Milk', 'Cookies')). \n",
        "# Assign the results to a variable called \"clean_pairs\".\n",
        "\n",
        "pairs = [\n",
        "         ('Milk', 'Cookies'), \n",
        "         ('Peanut Butter - Jelly', ), \n",
        "         ('Spaghetti & Meatballs', ), \n",
        "         ('Eggs', 'Bacon'), \n",
        "         ('Pancakes & Syrup', ), \n",
        "         ('Chicken - Waffles', ), \n",
        "         ('Peas', 'Carrots')\n",
        "         ]\n",
        "\n",
        "clean_pairs = []\n",
        "\n",
        "for item in pairs:\n",
        "\n",
        "  if len(item) == 2:\n",
        "    clean_pairs.append(item)\n",
        "    continue\n",
        "    \n",
        "  # If we are here, we ONLY care about the first item.\n",
        "\n",
        "  if '-' in item[0]:\n",
        "    pair = tuple(item[0].split('-'))\n",
        "    clean_pairs.append(pair)\n",
        "    continue\n",
        "\n",
        "  if '&' in item[0]:\n",
        "    pair = tuple(item[0].split('&'))\n",
        "    clean_pairs.append(pair)\n",
        "\n",
        "print(clean_pairs)"
      ],
      "execution_count": 36,
      "outputs": [
        {
          "output_type": "stream",
          "text": [
            "[('Milk', 'Cookies'), ('Peanut Butter ', ' Jelly'), ('Spaghetti ', ' Meatballs'), ('Eggs', 'Bacon'), ('Pancakes ', ' Syrup'), ('Chicken ', ' Waffles'), ('Peas', 'Carrots')]\n"
          ],
          "name": "stdout"
        }
      ]
    },
    {
      "cell_type": "markdown",
      "metadata": {
        "id": "E39dQ-pONezT",
        "colab_type": "text"
      },
      "source": [
        "\n",
        "\n",
        "### P3.PY\n",
        "\n",
        "\n"
      ]
    },
    {
      "cell_type": "code",
      "metadata": {
        "id": "b6qFJuFfNezT",
        "colab_type": "code",
        "colab": {}
      },
      "source": [
        "\"\"\"\n",
        "Password Requirements\n",
        "\"\"\"\n",
        "\n",
        "# Write a Python program called \"pw_validator\" to validate a password based on the security requirements outlined below.\n",
        "\n",
        "# VALIDATION REQUIREMENTS:\n",
        "## At least 1 lowercase letter [a-z]\n",
        "## At least 1 uppercase letter [A-Z].\n",
        "## At least 1 number [0-9].\n",
        "## At least 1 special character [~!@#$%&*].\n",
        "## Min length 6 characters.\n",
        "## Max length 16 characters.\n",
        "\n"
      ],
      "execution_count": 0,
      "outputs": []
    },
    {
      "cell_type": "markdown",
      "metadata": {
        "id": "X8kPjts_NezV",
        "colab_type": "text"
      },
      "source": [
        "\n",
        "\n",
        "### P4.PY\n",
        "\n",
        "\n"
      ]
    },
    {
      "cell_type": "code",
      "metadata": {
        "id": "AucIC9Z8NezW",
        "colab_type": "code",
        "colab": {}
      },
      "source": [
        "\"\"\"\n",
        "Rainbows & Wobniars\n",
        "\"\"\"\n",
        "\n",
        "# Write a function called \"wobniar\", which should contain the local variable \"rainbow\" below. The function should collect every other color of the rainbow starting at index 0 and add each one to a new list. When you add each color, it should be spelled backwards. For example, the word 'sing' would be added to the new list as 'gnis'. Return and print the list.\n",
        "\n"
      ],
      "execution_count": 0,
      "outputs": []
    },
    {
      "cell_type": "markdown",
      "metadata": {
        "id": "4gyJyWF1Nezc",
        "colab_type": "text"
      },
      "source": [
        "\n",
        "\n",
        "### P5.PY\n",
        "\n",
        "\n"
      ]
    },
    {
      "cell_type": "code",
      "metadata": {
        "id": "aW8b7Bk_Neze",
        "colab_type": "code",
        "colab": {}
      },
      "source": [
        "\"\"\"\n",
        "Speeding Tickets\n",
        "\"\"\"\n",
        "\n",
        "# Imagine you're a cop waiting on the side of the road to pick up speeders. Write a function called \"speeders\" to check the speed of drivers and record their license plate numbers.\n",
        "## If speed is less than or equal 70 (mph), it should print \"Good\". \n",
        "## If the speed is greater than 70, find the license plate number of that driver in your \"driver_points\" dict (see below) and add a point to their license for every 5 full mph above the speed limit.\n",
        "## If at any point that driver has 12 or more points on his/her license, print \"License Suspended\".\n",
        "## Call the function on each driver in the \"passing_cars\" dict below to see difference use cases work.\n",
        "\n",
        "# p.s. Feel free to move these around in your code as needed.\n",
        "passing_cars = { # license plate nums & speed\n",
        "  '4GRONPH': 68,\n",
        "  'OJGL6WD': 82,\n",
        "  'Q5517FA': 70,\n",
        "  'S0PNWEJ': 95,\n",
        "  'RM23RXC': 64,\n",
        "  'KH5TH8D': 100,\n",
        "  'IHEHJ4P': 67,\n",
        "  'SVK90LT': 73,\n",
        "  'LJSV4N1': 88,\n",
        "  'KDRLGXM': 91\n",
        "}\n",
        "\n",
        "driver_points = { # license plate nums & points\n",
        "  '4GRONPH': 8,\n",
        "  'OJGL6WD': 12,\n",
        "  'Q5517FA': 1,\n",
        "  'S0PNWEJ': 2,\n",
        "  'RM23RXC': 6,\n",
        "  'KH5TH8D': 7,\n",
        "  'IHEHJ4P': 10,\n",
        "  'SVK90LT': 5,\n",
        "  'LJSV4N1': 3,\n",
        "  'KDRLGXM': 9\n",
        "  }"
      ],
      "execution_count": 0,
      "outputs": []
    }
  ]
}