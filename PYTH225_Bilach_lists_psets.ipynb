{
  "nbformat": 4,
  "nbformat_minor": 0,
  "metadata": {
    "colab": {
      "name": "PYTH225_Bilach_lists_psets.ipynb",
      "provenance": [],
      "collapsed_sections": [
        "3YuVvl6vVSvP",
        "iopPhVNUVI_p",
        "lydOzGvFVI_6",
        "2XYhGsPjVUx8",
        "0xVs38QYVJAA",
        "ImDqbHx5VY4P",
        "HpUeu1YiVJAX",
        "qYrO5tA-VdxK"
      ],
      "include_colab_link": true
    },
    "kernelspec": {
      "name": "python3",
      "display_name": "Python 3"
    }
  },
  "cells": [
    {
      "cell_type": "markdown",
      "metadata": {
        "id": "view-in-github",
        "colab_type": "text"
      },
      "source": [
        "<a href=\"https://colab.research.google.com/github/tbilach13/PYTH225_Homework/blob/master/PYTH225_Bilach_lists_psets.ipynb\" target=\"_parent\"><img src=\"https://colab.research.google.com/assets/colab-badge.svg\" alt=\"Open In Colab\"/></a>"
      ]
    },
    {
      "cell_type": "markdown",
      "metadata": {
        "id": "Yr_KNJCvVI_l",
        "colab_type": "text"
      },
      "source": [
        "#  LISTS"
      ]
    },
    {
      "cell_type": "markdown",
      "metadata": {
        "id": "wnygsOhDVRof",
        "colab_type": "text"
      },
      "source": [
        "## LIST OPS"
      ]
    },
    {
      "cell_type": "markdown",
      "metadata": {
        "id": "3YuVvl6vVSvP",
        "colab_type": "text"
      },
      "source": [
        "### P1.PY"
      ]
    },
    {
      "cell_type": "code",
      "metadata": {
        "id": "Ir33rYgDVI_m",
        "colab_type": "code",
        "colab": {}
      },
      "source": [
        "\"\"\"\n",
        "Basic List Operations I\n",
        "\"\"\"\n",
        "\n",
        "# Create a list including these five animals - elephant, tiger, otter, orangutan, and penguin.\n",
        "animals = ['elephant', 'tiger', 'otter', 'orangutan', 'peguin']\n",
        "print(animals)\n",
        "\n",
        "# Print the 4th animal on the list.\n",
        "print(animals[3])\n",
        "\n",
        "# Add 'tortoise' to the beginning of the list.\n",
        "animals.insert(0, 'tortoise')\n",
        "print(animals)\n",
        "\n",
        "# Print the length of the list.\n",
        "print(len(animals))\n",
        "\n",
        "# Remove 'orangutan' from the list.\n",
        "animals.pop(4)\n",
        "print(animals)\n",
        "\n",
        "# Sort the list alphabetically and print it out.\n",
        "animals.sort()\n",
        "print(animals)"
      ],
      "execution_count": 0,
      "outputs": []
    },
    {
      "cell_type": "markdown",
      "metadata": {
        "id": "iopPhVNUVI_p",
        "colab_type": "text"
      },
      "source": [
        "\n",
        "\n",
        "### P2.PY\n",
        "\n",
        "\n"
      ]
    },
    {
      "cell_type": "code",
      "metadata": {
        "id": "4kMd_uBjVI_q",
        "colab_type": "code",
        "outputId": "374936e1-5ccd-4b76-e839-ba2b8ded7049",
        "colab": {
          "base_uri": "https://localhost:8080/",
          "height": 120
        }
      },
      "source": [
        "\"\"\"\n",
        "Basic List Operations II\n",
        "\"\"\"\n",
        "\n",
        "# Declare a list with 5 names, and print out the length of that list.\n",
        "names = [\"Tom\", \"Tim\", \"Ted\", \"Mike\", \"Lin\"]\n",
        "print(names)\n",
        "\n",
        "# Print the 3rd name on the list\n",
        "print(names[2])\n",
        "\n",
        "# Delete the first name on the list\n",
        "names.pop(0)\n",
        "print(names)\n",
        "\n",
        "# Re-add the name you deleted to the end of the list\n",
        "names.extend([\"Tom\"])\n",
        "print(names)\n",
        "\n",
        "# Replace the 2nd name on the list with a new name.\n",
        "names[1] = \"Ken\"\n",
        "print(names)\n",
        "\n",
        "# Add 3 new names to the end of the list.\n",
        "new_names = [\"Joe\", \"Bob\", \"Rebecca\"]\n",
        "names.extend(new_names)\n",
        "print(names)"
      ],
      "execution_count": 0,
      "outputs": [
        {
          "output_type": "stream",
          "text": [
            "['Tom', 'Tim', 'Ted', 'Mike', 'Lin']\n",
            "Ted\n",
            "['Tim', 'Ted', 'Mike', 'Lin']\n",
            "['Tim', 'Ted', 'Mike', 'Lin', 'Tom']\n",
            "['Tim', 'Ken', 'Mike', 'Lin', 'Tom']\n",
            "['Tim', 'Ken', 'Mike', 'Lin', 'Tom', 'Joe', 'Bob', 'Rebecca']\n"
          ],
          "name": "stdout"
        }
      ]
    },
    {
      "cell_type": "markdown",
      "metadata": {
        "id": "lydOzGvFVI_6",
        "colab_type": "text"
      },
      "source": [
        "\n",
        "\n",
        "### P3.PY\n",
        "\n",
        "\n"
      ]
    },
    {
      "cell_type": "code",
      "metadata": {
        "id": "86gQFKLNVI_7",
        "colab_type": "code",
        "colab": {}
      },
      "source": [
        "\"\"\"\n",
        "Math Operations\n",
        "\"\"\"\n",
        "\n",
        "# Save a list with the numbers `2`, `4`, `6`, and `8` into a variable called `numbers`. Use this variable for all the problems in this PSET.\n",
        "numbers = [2, 4, 6, 8]\n",
        "\n",
        "# Print the max of `numbers`.\n",
        "print(max(numbers))\n",
        "\n",
        "# Pop the last element in `numbers` off; re-insert it at index `2` and print the resultant list.\n",
        "numbers.pop()\n",
        "numbers.insert(2, 8)\n",
        "print(numbers) \n",
        "\n",
        "# Pop the second number in `numbers` off.\n",
        "numbers.pop(1)\n",
        "print(numbers) \n",
        "\n",
        "# Append `3` to `numbers`.\n",
        "numbers.append(3)\n",
        "print(numbers) \n",
        "\n",
        "# Print out the average number.\n",
        "avg = sum(numbers) / len(numbers)\n",
        "print(avg)\n",
        "\n",
        "# Or\n",
        "\n",
        "import numpy as np\n",
        "np.mean(numbers)"
      ],
      "execution_count": 0,
      "outputs": []
    },
    {
      "cell_type": "markdown",
      "metadata": {
        "id": "m40a2IGVVI_-",
        "colab_type": "text"
      },
      "source": [
        "\n",
        "\n",
        "## SORTING\n",
        "\n",
        "\n"
      ]
    },
    {
      "cell_type": "markdown",
      "metadata": {
        "id": "2XYhGsPjVUx8",
        "colab_type": "text"
      },
      "source": [
        "### P1.PY"
      ]
    },
    {
      "cell_type": "code",
      "metadata": {
        "id": "NRi8DF1eVI_-",
        "colab_type": "code",
        "outputId": "315948df-de2f-4273-e976-6904ab79bb5c",
        "colab": {
          "base_uri": "https://localhost:8080/",
          "height": 71
        }
      },
      "source": [
        "\"\"\"\n",
        "Spotify Playlists - Sorting\n",
        "\"\"\"\n",
        "\n",
        "# You work for Spotify and are creating a feature for users to alphabetize their playlists by song title. \n",
        "# Below is a list of titles from a sample playlist.\n",
        "\n",
        "playlist_titles = ['Tiny Dancer', 'At Last', 'Fortunate Son', \n",
        "'Hey Jude', 'Isn\\'t She Lovely', 'Just the Way You Are', 'I\\'m Yours',\n",
        "'Vienna', 'Roxanne', 'Dancing in the Moonlight']\n",
        "\n",
        "# Alphabetize these songs and print the result.\n",
        "\n",
        "ascending_playlist = sorted(playlist_titles)\n",
        "print(ascending_playlist)\n",
        "\n",
        "# Now do the reverse.\n",
        "descending_playlist = sorted(playlist_titles, reverse = True)\n",
        "print(descending_playlist)"
      ],
      "execution_count": 0,
      "outputs": [
        {
          "output_type": "stream",
          "text": [
            "['At Last', 'Dancing in the Moonlight', 'Fortunate Son', 'Hey Jude', \"I'm Yours\", \"Isn't She Lovely\", 'Just the Way You Are', 'Roxanne', 'Tiny Dancer', 'Vienna']\n",
            "['Vienna', 'Tiny Dancer', 'Roxanne', 'Just the Way You Are', \"Isn't She Lovely\", \"I'm Yours\", 'Hey Jude', 'Fortunate Son', 'Dancing in the Moonlight', 'At Last']\n"
          ],
          "name": "stdout"
        }
      ]
    },
    {
      "cell_type": "markdown",
      "metadata": {
        "id": "0xVs38QYVJAA",
        "colab_type": "text"
      },
      "source": [
        "\n",
        "\n",
        "### P2.PY\n",
        "\n",
        "\n"
      ]
    },
    {
      "cell_type": "code",
      "metadata": {
        "id": "VXtT3BB0VJAB",
        "colab_type": "code",
        "outputId": "e267e30c-fd7b-4058-e22c-e8f557b8f8e1",
        "colab": {
          "base_uri": "https://localhost:8080/",
          "height": 67
        }
      },
      "source": [
        "\"\"\"\n",
        "Ordering Random Numbers\n",
        "\"\"\"\n",
        "\n",
        "# Create a list of 6 randomly generated numbers called numbers and sort it in descending order.\n",
        "\n",
        "from random import randint\n",
        "\n",
        "# 1st way\n",
        "\n",
        "numbers = [None] * 6\n",
        "print(numbers) # Pre-allocated list\n",
        "\n",
        "for i in range(0, 6):\n",
        "  x = randint(0, 9)  # 6 numbers, integers between 0 - 9 (inclusive)\n",
        "  numbers[i] = x\n",
        "print(sorted(numbers))\n",
        "\n",
        "# 2nd way\n",
        "\n",
        "numbers_2 = []  # Empty list here\n",
        "\n",
        "for i in range(0, 6):\n",
        "  numbers_2.append(randint(0, 9))\n",
        "\n",
        "print(sorted(numbers_2))"
      ],
      "execution_count": 0,
      "outputs": [
        {
          "output_type": "stream",
          "text": [
            "[None, None, None, None, None, None]\n",
            "[1, 1, 3, 5, 6, 8]\n",
            "[1, 1, 2, 3, 4, 9]\n"
          ],
          "name": "stdout"
        }
      ]
    },
    {
      "cell_type": "markdown",
      "metadata": {
        "id": "cN7amwMkVJAR",
        "colab_type": "text"
      },
      "source": [
        "## LIST MANIPULATION\n"
      ]
    },
    {
      "cell_type": "markdown",
      "metadata": {
        "id": "ImDqbHx5VY4P",
        "colab_type": "text"
      },
      "source": [
        "### P1.PY"
      ]
    },
    {
      "cell_type": "code",
      "metadata": {
        "id": "z8OOTUg6VJAT",
        "colab_type": "code",
        "outputId": "ffedba7a-579d-4d61-fe6c-ef84751fe179",
        "colab": {
          "base_uri": "https://localhost:8080/",
          "height": 67
        }
      },
      "source": [
        "\"\"\"\n",
        "Phone Numbers\n",
        "\"\"\"\n",
        "\n",
        "# Parse this phone number so that a computer can process\n",
        "# it. (Hint: It can't include any non-numeric\n",
        "# characters.)\n",
        "\n",
        "cell = '1.192.168.0143'\n",
        "\n",
        "numbers_only = cell.split('.')\n",
        "print(numbers_only)  # Now digit sequences are separated and put in a list\n",
        "print(f\"The phone number without periods or decimals is as follows: {'-'.join(numbers_only)}\")\n",
        "print(f\"The phone number removing dashes between major digit sequences is: {' '.join(numbers_only)}\")"
      ],
      "execution_count": 0,
      "outputs": [
        {
          "output_type": "stream",
          "text": [
            "['1', '192', '168', '0143']\n",
            "The phone number without periods or decimals is as follows: 1-192-168-0143\n",
            "The phone number removing dashes between major digit sequences is: 1 192 168 0143\n"
          ],
          "name": "stdout"
        }
      ]
    },
    {
      "cell_type": "markdown",
      "metadata": {
        "id": "HpUeu1YiVJAX",
        "colab_type": "text"
      },
      "source": [
        "\n",
        "\n",
        "### P2.PY\n",
        "\n",
        "\n"
      ]
    },
    {
      "cell_type": "code",
      "metadata": {
        "id": "O1ZpW64qVJAa",
        "colab_type": "code",
        "outputId": "dd7bd4d9-cb34-4f41-b633-31d21c0ba11d",
        "colab": {
          "base_uri": "https://localhost:8080/",
          "height": 168
        }
      },
      "source": [
        "\"\"\"\n",
        "Basic Math Ops\n",
        "\"\"\"\n",
        "\n",
        "# Given the list below, assign the correct values to the variables below.\n",
        "\t# my_sum = \n",
        "\t# my_min = \n",
        "\t# my_max = \n",
        "\t# my_range = \n",
        "\t# my_mean =\n",
        "\n",
        "import numpy as np\n",
        "\n",
        "nums = [2, 19, 20, 12, 6, 24, 8, 30, 28, 25]\n",
        "\n",
        "my_sum = sum(nums)\n",
        "my_min = min(nums)\n",
        "my_max = max(nums)\n",
        "my_range = ( max(nums) - min(nums) )\n",
        "my_mean = np.mean(nums)\n",
        "\n",
        "print(f'''\n",
        "Enumerated below are some \\nsummary statistics:\n",
        "The sum is {my_sum}\n",
        "The minimum is {my_min}\n",
        "The max is {my_max}\n",
        "The range is {my_range}\n",
        "The range is {my_mean}\n",
        "''')\n",
        "\n",
        "# Once you finish, print out each value **on its own line** in this format: \"my_median = \" etc."
      ],
      "execution_count": 0,
      "outputs": [
        {
          "output_type": "stream",
          "text": [
            "\n",
            "Enumerated below are \n",
            "summary statistics:\n",
            "The sum is 174\n",
            "The minimum is 2\n",
            "The max is 30\n",
            "The range is 28\n",
            "The range is 17.4\n",
            "\n"
          ],
          "name": "stdout"
        }
      ]
    },
    {
      "cell_type": "markdown",
      "metadata": {
        "id": "X3BMzIHyVJAd",
        "colab_type": "text"
      },
      "source": [
        "\n",
        "\n",
        "### P3.PY\n",
        "\n",
        "\n"
      ]
    },
    {
      "cell_type": "code",
      "metadata": {
        "id": "jz3ccPm3VJAe",
        "colab_type": "code",
        "outputId": "b26e0205-58c3-4802-e3c3-effba1e98f14",
        "colab": {
          "base_uri": "https://localhost:8080/",
          "height": 118
        }
      },
      "source": [
        "\"\"\"\n",
        "Merge Lists with Duplicates\n",
        "\"\"\"\n",
        "\n",
        "# Use the two lists below to solve this problem. Print out the result from each section as you go along.\n",
        "\n",
        "list1, list2 = [2, 8, 6], [10, 4, 12]\n",
        "\n",
        "print(list1)\n",
        "print(list2) \n",
        "\n",
        "# A) Add another instance of each item in list1 to list1 again and assign the results to list3.\n",
        "list3 = list1 + list1\n",
        "print(list3)\n",
        "\n",
        "# B) Combine the two given lists and assign them to list4.\n",
        "list4 = list3 + list2 \n",
        "print(list4)\n",
        "\n",
        "# C) Replace the first 3 items in list 3 with the numbers 13, 16, 9.\n",
        "list3[:3] = 13, 16, 19\n",
        "print(list3)\n",
        "\n",
        "# D) Merge list3 and list4 to create a list containing no duplicates and store this in list5.\n",
        "list5 = set(list3 + list4)\n",
        "print(list5)\n",
        "\n",
        "# Take a look at your printed statements to see the evolution of your lists with each step of this problem.\n"
      ],
      "execution_count": 0,
      "outputs": [
        {
          "output_type": "stream",
          "text": [
            "[2, 8, 6]\n",
            "[10, 4, 12]\n",
            "[2, 8, 6, 2, 8, 6]\n",
            "[2, 8, 6, 2, 8, 6, 10, 4, 12]\n",
            "[13, 16, 19, 2, 8, 6]\n",
            "{2, 4, 6, 8, 10, 12, 13, 16, 19}\n"
          ],
          "name": "stdout"
        }
      ]
    },
    {
      "cell_type": "markdown",
      "metadata": {
        "id": "Qqtm5kHYVJAg",
        "colab_type": "text"
      },
      "source": [
        "\n",
        "\n",
        "### P4.PY\n",
        "\n",
        "\n"
      ]
    },
    {
      "cell_type": "code",
      "metadata": {
        "id": "wgF_gvjVVJAh",
        "colab_type": "code",
        "outputId": "bd9a3956-2436-4c6f-9f99-7d9353c89737",
        "colab": {
          "base_uri": "https://localhost:8080/",
          "height": 403
        }
      },
      "source": [
        "\"\"\"\n",
        "Cool Runnings!\n",
        "\"\"\"\n",
        "\n",
        "# Here's a quote from the movie 'Cool Runnings'. :)\n",
        "\n",
        "# Replace the word bobsled with \"YOLO\" and print the resultant list as 4 sentences (i.e. NOT a list), \n",
        "# each on a new line.\n",
        "\n",
        "cool_runnings = [\n",
        "\t'Feel', 'the', 'rhythm.',\n",
        "\t'Feel', 'the', 'rhyme.',\n",
        "\t'Get', 'on', 'up.',\n",
        "\t'It\\'s', 'bobsled', 'time!'\n",
        "]\n",
        "\n",
        "for lyrics in enumerate(cool_runnings):\n",
        "\tindex = lyrics[0]\n",
        "\twords = lyrics[1]\n",
        "\tprint(f'The word we are up to is {words}')\n",
        "\tif words == \"bobsled\":\n",
        "\t\tprint('Hey, we found bobsled now replace it with YOLO!\\nSee down below:\\n')\n",
        "\t\tcool_runnings[index] = \"YOLO\"\n",
        "\t\tbreak\n",
        "print(cool_runnings, '\\n')\n",
        "\n",
        "# Print it on four lines\n",
        "\n",
        "multiple_lines = ' '.join(cool_runnings)\n",
        "\n",
        "print(f'Here are the lyrics on one line: {multiple_lines}')\n",
        "print(f'Here are the lyrics on separate lines:\\n\\nFeel the rhythm.\\nFeel the rhyme.\\nGet on up.\\nIt\\'s YOLO time!')"
      ],
      "execution_count": 0,
      "outputs": [
        {
          "output_type": "stream",
          "text": [
            "The word we are up to is Feel\n",
            "The word we are up to is the\n",
            "The word we are up to is rhythm.\n",
            "The word we are up to is Feel\n",
            "The word we are up to is the\n",
            "The word we are up to is rhyme.\n",
            "The word we are up to is Get\n",
            "The word we are up to is on\n",
            "The word we are up to is up.\n",
            "The word we are up to is It's\n",
            "The word we are up to is bobsled\n",
            "Hey, we found bobsled now replace it with YOLO!\n",
            "See down below:\n",
            "\n",
            "['Feel', 'the', 'rhythm.', 'Feel', 'the', 'rhyme.', 'Get', 'on', 'up.', \"It's\", 'YOLO', 'time!'] \n",
            "\n",
            "Here are the lyrics on one line: Feel the rhythm. Feel the rhyme. Get on up. It's YOLO time!\n",
            "Here are the lyrics on separate lines:\n",
            "\n",
            "Feel the rhythm.\n",
            "Feel the rhyme.\n",
            "Get on up.\n",
            "It's YOLO time!\n"
          ],
          "name": "stdout"
        }
      ]
    },
    {
      "cell_type": "markdown",
      "metadata": {
        "id": "fyknlYbQVJAj",
        "colab_type": "text"
      },
      "source": [
        "## LIST CHALLENGES\n",
        "\n",
        "\n"
      ]
    },
    {
      "cell_type": "markdown",
      "metadata": {
        "id": "qYrO5tA-VdxK",
        "colab_type": "text"
      },
      "source": [
        "### P1.PY"
      ]
    },
    {
      "cell_type": "code",
      "metadata": {
        "id": "R1ouYtGvVJAq",
        "colab_type": "code",
        "colab": {}
      },
      "source": [
        "\"\"\"\n",
        "CHALLENGE - Extensions\n",
        "\"\"\"\n",
        "\n",
        "# ** Challenge** Add each element of the tuple1 to list1 *individually* and print the result.\n",
        "\n",
        "list1 = [6, 12, 9, 4, 10, 1]\n",
        "tuple1 = [(15,3), (6,2), (1, 8)]\n",
        "\n",
        "print(tuple1[0][0] + list1[0])\n",
        "print(tuple1[0][1] + list1[1])\n",
        "print(tuple1[1][0] + list1[2])\n",
        "print(tuple1[1][1] + list1[3])\n",
        "print(tuple1[2][0] + list1[4])\n",
        "print(tuple1[2][1] + list1[5])"
      ],
      "execution_count": 0,
      "outputs": []
    },
    {
      "cell_type": "markdown",
      "metadata": {
        "id": "X5MSdZzXVJAt",
        "colab_type": "text"
      },
      "source": [
        "\n",
        "\n",
        "### P2.PY\n",
        "\n",
        "\n"
      ]
    },
    {
      "cell_type": "code",
      "metadata": {
        "id": "xyu2RSZcVJAt",
        "colab_type": "code",
        "colab": {}
      },
      "source": [
        "\"\"\"\n",
        "CHALLENGE - Core Statistics Calculations\n",
        "\"\"\"\n",
        "\n",
        "# Given the sample below, find the mean, median, mode, variance, and standard deviation of this sample.\n",
        "# Print them out separately, but in the same format as before.\n",
        "\n",
        "\t# my_median = \n",
        "\t# my_mode = \n",
        "\t# my_variance = \n",
        "\t# my_sd = \n",
        "\n",
        "import pandas as pd\n",
        "import statistics as stats\n",
        "import numpy as np\n",
        "\n",
        "sample = [6, 19, 20, 12, 6, 24, 8, 30, 28, 25]\n",
        "print(sorted(sample))\n",
        "\n",
        "my_median = np.median(sample)\n",
        "my_mode = max(set(sample), key = sample.count)\n",
        "my_sd = stats.stdev(sample)\n",
        "my_variance = my_sd**2\n",
        "\n",
        "# Once you finish, print out each value **on its own line** in this format: \"median = \" etc.\n",
        "\n",
        "print(f\"\"\"\n",
        "Median = {my_median}\n",
        "Mode = {my_mode}\n",
        "Variance = {my_variance}\n",
        "Standard Deviation = {my_sd}\n",
        "\"\"\")"
      ],
      "execution_count": 0,
      "outputs": []
    }
  ]
}